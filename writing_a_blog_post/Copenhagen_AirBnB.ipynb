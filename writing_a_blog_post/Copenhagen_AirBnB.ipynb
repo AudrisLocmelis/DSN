{
 "cells": [
  {
   "cell_type": "markdown",
   "metadata": {},
   "source": [
    "# Write a Data Science Blog Post"
   ]
  },
  {
   "cell_type": "markdown",
   "metadata": {},
   "source": [
    "Using AirBnB data from Copenhagen I will try to answer the following 3+ questions.\n",
    "\n",
    "1. Which neighbourhoods are the nicest to stay in?\n",
    "    1. Best average rating\n",
    "    1. Best location\n",
    "    1. Other important differentiators?\n",
    "2. How does a map of most desireable locations in Copenhagen look like?\n",
    "2. Predicting the rating\n",
    "    1. What are the strongest positive or negative predictors for the rating of a listing?"
   ]
  },
  {
   "cell_type": "code",
   "execution_count": 1,
   "metadata": {},
   "outputs": [],
   "source": [
    "# importing the necessary packages\n",
    "import numpy as np\n",
    "import pandas as pd\n",
    "import matplotlib.pyplot as plt\n",
    "import plotly.graph_objects as go\n",
    "import plotly.express as px\n",
    "import statistics\n",
    "from sklearn.linear_model import LinearRegression\n",
    "from sklearn.model_selection import train_test_split\n",
    "from sklearn.metrics import r2_score, mean_squared_error\n",
    "from sklearn import preprocessing\n",
    "from pandas_profiling import ProfileReport\n",
    "%matplotlib inline"
   ]
  },
  {
   "cell_type": "code",
   "execution_count": 2,
   "metadata": {},
   "outputs": [
    {
     "name": "stdout",
     "output_type": "stream",
     "text": [
      "(28121, 106)\n"
     ]
    }
   ],
   "source": [
    "# 1. Gather the data\n",
    "## Importing the Copenhagen AirBnB listings\n",
    "df = pd.read_csv('data/AirBnB/Copenhagen/listings.csv', low_memory=False)\n",
    "print(df.shape)"
   ]
  },
  {
   "cell_type": "code",
   "execution_count": 3,
   "metadata": {},
   "outputs": [
    {
     "data": {
      "text/html": [
       "<div>\n",
       "<style scoped>\n",
       "    .dataframe tbody tr th:only-of-type {\n",
       "        vertical-align: middle;\n",
       "    }\n",
       "\n",
       "    .dataframe tbody tr th {\n",
       "        vertical-align: top;\n",
       "    }\n",
       "\n",
       "    .dataframe thead th {\n",
       "        text-align: right;\n",
       "    }\n",
       "</style>\n",
       "<table border=\"1\" class=\"dataframe\">\n",
       "  <thead>\n",
       "    <tr style=\"text-align: right;\">\n",
       "      <th></th>\n",
       "      <th>id</th>\n",
       "      <th>listing_url</th>\n",
       "      <th>scrape_id</th>\n",
       "      <th>last_scraped</th>\n",
       "      <th>name</th>\n",
       "      <th>summary</th>\n",
       "      <th>space</th>\n",
       "      <th>description</th>\n",
       "      <th>experiences_offered</th>\n",
       "      <th>neighborhood_overview</th>\n",
       "      <th>...</th>\n",
       "      <th>instant_bookable</th>\n",
       "      <th>is_business_travel_ready</th>\n",
       "      <th>cancellation_policy</th>\n",
       "      <th>require_guest_profile_picture</th>\n",
       "      <th>require_guest_phone_verification</th>\n",
       "      <th>calculated_host_listings_count</th>\n",
       "      <th>calculated_host_listings_count_entire_homes</th>\n",
       "      <th>calculated_host_listings_count_private_rooms</th>\n",
       "      <th>calculated_host_listings_count_shared_rooms</th>\n",
       "      <th>reviews_per_month</th>\n",
       "    </tr>\n",
       "  </thead>\n",
       "  <tbody>\n",
       "    <tr>\n",
       "      <td>0</td>\n",
       "      <td>6983</td>\n",
       "      <td>https://www.airbnb.com/rooms/6983</td>\n",
       "      <td>20191128234039</td>\n",
       "      <td>2019-11-29</td>\n",
       "      <td>Copenhagen 'N Livin'</td>\n",
       "      <td>Lovely apartment located in the hip Nørrebro a...</td>\n",
       "      <td>Beautiful and cosy apartment conveniently loca...</td>\n",
       "      <td>Lovely apartment located in the hip Nørrebro a...</td>\n",
       "      <td>none</td>\n",
       "      <td>Nice bars and cozy cafes just minutes away, ye...</td>\n",
       "      <td>...</td>\n",
       "      <td>f</td>\n",
       "      <td>f</td>\n",
       "      <td>moderate</td>\n",
       "      <td>f</td>\n",
       "      <td>f</td>\n",
       "      <td>1</td>\n",
       "      <td>0</td>\n",
       "      <td>1</td>\n",
       "      <td>0</td>\n",
       "      <td>1.35</td>\n",
       "    </tr>\n",
       "    <tr>\n",
       "      <td>1</td>\n",
       "      <td>26057</td>\n",
       "      <td>https://www.airbnb.com/rooms/26057</td>\n",
       "      <td>20191128234039</td>\n",
       "      <td>2019-11-29</td>\n",
       "      <td>Lovely house - most attractive area</td>\n",
       "      <td>Our lovely house in the center of the city is ...</td>\n",
       "      <td>Totally charming old 150 m2 stone house from y...</td>\n",
       "      <td>Our lovely house in the center of the city is ...</td>\n",
       "      <td>none</td>\n",
       "      <td>The neighborhood is the most famous one and th...</td>\n",
       "      <td>...</td>\n",
       "      <td>f</td>\n",
       "      <td>f</td>\n",
       "      <td>moderate</td>\n",
       "      <td>f</td>\n",
       "      <td>f</td>\n",
       "      <td>1</td>\n",
       "      <td>1</td>\n",
       "      <td>0</td>\n",
       "      <td>0</td>\n",
       "      <td>0.67</td>\n",
       "    </tr>\n",
       "    <tr>\n",
       "      <td>2</td>\n",
       "      <td>26473</td>\n",
       "      <td>https://www.airbnb.com/rooms/26473</td>\n",
       "      <td>20191128234039</td>\n",
       "      <td>2019-11-29</td>\n",
       "      <td>City Centre Townhouse Sleeps 1-12 persons</td>\n",
       "      <td>TOWN HOUSE ON KNABROSTRÆDE - located in the ab...</td>\n",
       "      <td>The house is a total of 240sqm divided on 4 fl...</td>\n",
       "      <td>TOWN HOUSE ON KNABROSTRÆDE - located in the ab...</td>\n",
       "      <td>none</td>\n",
       "      <td>NaN</td>\n",
       "      <td>...</td>\n",
       "      <td>t</td>\n",
       "      <td>f</td>\n",
       "      <td>moderate</td>\n",
       "      <td>f</td>\n",
       "      <td>f</td>\n",
       "      <td>2</td>\n",
       "      <td>2</td>\n",
       "      <td>0</td>\n",
       "      <td>0</td>\n",
       "      <td>2.54</td>\n",
       "    </tr>\n",
       "    <tr>\n",
       "      <td>3</td>\n",
       "      <td>29118</td>\n",
       "      <td>https://www.airbnb.com/rooms/29118</td>\n",
       "      <td>20191128234039</td>\n",
       "      <td>2019-11-29</td>\n",
       "      <td>Best Location in Cool Istedgade</td>\n",
       "      <td>NaN</td>\n",
       "      <td>The apartment is situated in the middle of the...</td>\n",
       "      <td>The apartment is situated in the middle of the...</td>\n",
       "      <td>none</td>\n",
       "      <td>NaN</td>\n",
       "      <td>...</td>\n",
       "      <td>f</td>\n",
       "      <td>f</td>\n",
       "      <td>strict_14_with_grace_period</td>\n",
       "      <td>f</td>\n",
       "      <td>f</td>\n",
       "      <td>1</td>\n",
       "      <td>1</td>\n",
       "      <td>0</td>\n",
       "      <td>0</td>\n",
       "      <td>0.19</td>\n",
       "    </tr>\n",
       "    <tr>\n",
       "      <td>4</td>\n",
       "      <td>29618</td>\n",
       "      <td>https://www.airbnb.com/rooms/29618</td>\n",
       "      <td>20191128234039</td>\n",
       "      <td>2019-11-30</td>\n",
       "      <td>Artsy and familyfriendly home in lovely Copenh...</td>\n",
       "      <td>Artsy, bright and spacious flat, close to the ...</td>\n",
       "      <td>It's a three bedroom apartment with a spacious...</td>\n",
       "      <td>Artsy, bright and spacious flat, close to the ...</td>\n",
       "      <td>none</td>\n",
       "      <td>The apartment is situated in Østerbro, very cl...</td>\n",
       "      <td>...</td>\n",
       "      <td>t</td>\n",
       "      <td>f</td>\n",
       "      <td>moderate</td>\n",
       "      <td>f</td>\n",
       "      <td>f</td>\n",
       "      <td>1</td>\n",
       "      <td>1</td>\n",
       "      <td>0</td>\n",
       "      <td>0</td>\n",
       "      <td>0.80</td>\n",
       "    </tr>\n",
       "  </tbody>\n",
       "</table>\n",
       "<p>5 rows × 106 columns</p>\n",
       "</div>"
      ],
      "text/plain": [
       "      id                         listing_url       scrape_id last_scraped  \\\n",
       "0   6983   https://www.airbnb.com/rooms/6983  20191128234039   2019-11-29   \n",
       "1  26057  https://www.airbnb.com/rooms/26057  20191128234039   2019-11-29   \n",
       "2  26473  https://www.airbnb.com/rooms/26473  20191128234039   2019-11-29   \n",
       "3  29118  https://www.airbnb.com/rooms/29118  20191128234039   2019-11-29   \n",
       "4  29618  https://www.airbnb.com/rooms/29618  20191128234039   2019-11-30   \n",
       "\n",
       "                                                name  \\\n",
       "0                               Copenhagen 'N Livin'   \n",
       "1                Lovely house - most attractive area   \n",
       "2          City Centre Townhouse Sleeps 1-12 persons   \n",
       "3                    Best Location in Cool Istedgade   \n",
       "4  Artsy and familyfriendly home in lovely Copenh...   \n",
       "\n",
       "                                             summary  \\\n",
       "0  Lovely apartment located in the hip Nørrebro a...   \n",
       "1  Our lovely house in the center of the city is ...   \n",
       "2  TOWN HOUSE ON KNABROSTRÆDE - located in the ab...   \n",
       "3                                                NaN   \n",
       "4  Artsy, bright and spacious flat, close to the ...   \n",
       "\n",
       "                                               space  \\\n",
       "0  Beautiful and cosy apartment conveniently loca...   \n",
       "1  Totally charming old 150 m2 stone house from y...   \n",
       "2  The house is a total of 240sqm divided on 4 fl...   \n",
       "3  The apartment is situated in the middle of the...   \n",
       "4  It's a three bedroom apartment with a spacious...   \n",
       "\n",
       "                                         description experiences_offered  \\\n",
       "0  Lovely apartment located in the hip Nørrebro a...                none   \n",
       "1  Our lovely house in the center of the city is ...                none   \n",
       "2  TOWN HOUSE ON KNABROSTRÆDE - located in the ab...                none   \n",
       "3  The apartment is situated in the middle of the...                none   \n",
       "4  Artsy, bright and spacious flat, close to the ...                none   \n",
       "\n",
       "                               neighborhood_overview  ... instant_bookable  \\\n",
       "0  Nice bars and cozy cafes just minutes away, ye...  ...                f   \n",
       "1  The neighborhood is the most famous one and th...  ...                f   \n",
       "2                                                NaN  ...                t   \n",
       "3                                                NaN  ...                f   \n",
       "4  The apartment is situated in Østerbro, very cl...  ...                t   \n",
       "\n",
       "  is_business_travel_ready          cancellation_policy  \\\n",
       "0                        f                     moderate   \n",
       "1                        f                     moderate   \n",
       "2                        f                     moderate   \n",
       "3                        f  strict_14_with_grace_period   \n",
       "4                        f                     moderate   \n",
       "\n",
       "  require_guest_profile_picture require_guest_phone_verification  \\\n",
       "0                             f                                f   \n",
       "1                             f                                f   \n",
       "2                             f                                f   \n",
       "3                             f                                f   \n",
       "4                             f                                f   \n",
       "\n",
       "   calculated_host_listings_count  \\\n",
       "0                               1   \n",
       "1                               1   \n",
       "2                               2   \n",
       "3                               1   \n",
       "4                               1   \n",
       "\n",
       "   calculated_host_listings_count_entire_homes  \\\n",
       "0                                            0   \n",
       "1                                            1   \n",
       "2                                            2   \n",
       "3                                            1   \n",
       "4                                            1   \n",
       "\n",
       "  calculated_host_listings_count_private_rooms  \\\n",
       "0                                            1   \n",
       "1                                            0   \n",
       "2                                            0   \n",
       "3                                            0   \n",
       "4                                            0   \n",
       "\n",
       "   calculated_host_listings_count_shared_rooms  reviews_per_month  \n",
       "0                                            0               1.35  \n",
       "1                                            0               0.67  \n",
       "2                                            0               2.54  \n",
       "3                                            0               0.19  \n",
       "4                                            0               0.80  \n",
       "\n",
       "[5 rows x 106 columns]"
      ]
     },
     "execution_count": 3,
     "metadata": {},
     "output_type": "execute_result"
    }
   ],
   "source": [
    "# 2. Assess the data\n",
    "df.head()"
   ]
  },
  {
   "cell_type": "markdown",
   "metadata": {},
   "source": [
    "### 1. Which neighbourhoods are the nicest to stay in?"
   ]
  },
  {
   "cell_type": "code",
   "execution_count": 5,
   "metadata": {},
   "outputs": [
    {
     "data": {
      "text/plain": [
       "Nørrebro          5154\n",
       "Vesterbro         4192\n",
       "Indre By          3450\n",
       "Frederiksberg     3249\n",
       "Østerbro          2982\n",
       "Amager            2340\n",
       "København NV      1432\n",
       "Valby             1216\n",
       "Amager Vest       1051\n",
       "Amager Øst         776\n",
       "Vanløse            760\n",
       "Brønshøj           538\n",
       "Islands Brygge     272\n",
       "Christianshavn     263\n",
       "Amagerbro          214\n",
       "Teglholmen         103\n",
       "Sluseholmen         45\n",
       "Kødbyen             42\n",
       "Nyboder             34\n",
       "Holmen               7\n",
       "Christiania          1\n",
       "Name: neighbourhood, dtype: int64"
      ]
     },
     "execution_count": 5,
     "metadata": {},
     "output_type": "execute_result"
    }
   ],
   "source": [
    "# listings per neighborhood\n",
    "neighbourhood_cnt = df.neighbourhood.value_counts()\n",
    "neighbourhood_cnt"
   ]
  },
  {
   "cell_type": "code",
   "execution_count": 6,
   "metadata": {},
   "outputs": [
    {
     "data": {
      "text/plain": [
       "{'Amager',\n",
       " 'Amager Vest',\n",
       " 'Amager Øst',\n",
       " 'Amagerbro',\n",
       " 'Brønshøj',\n",
       " 'Christianshavn',\n",
       " 'Frederiksberg',\n",
       " 'Indre By',\n",
       " 'Islands Brygge',\n",
       " 'København NV',\n",
       " 'Nørrebro',\n",
       " 'Teglholmen',\n",
       " 'Valby',\n",
       " 'Vanløse',\n",
       " 'Vesterbro',\n",
       " 'Østerbro'}"
      ]
     },
     "execution_count": 6,
     "metadata": {},
     "output_type": "execute_result"
    }
   ],
   "source": [
    "# 3. clean the data\n",
    "# neighbourhoods with at least 100 listings\n",
    "top_neighbourhoods = neighbourhood_cnt.index[:(neighbourhood_cnt>99).sum()]\n",
    "top_neighbourhoods = set(top_neighbourhoods)\n",
    "top_neighbourhoods"
   ]
  },
  {
   "cell_type": "code",
   "execution_count": 7,
   "metadata": {},
   "outputs": [
    {
     "data": {
      "text/plain": [
       "Nørrebro          5154\n",
       "Vesterbro         4192\n",
       "Indre By          3450\n",
       "Frederiksberg     3249\n",
       "Østerbro          2982\n",
       "Amager            2340\n",
       "København NV      1432\n",
       "Valby             1216\n",
       "Amager Vest       1051\n",
       "Amager Øst         776\n",
       "Vanløse            760\n",
       "Brønshøj           538\n",
       "Islands Brygge     272\n",
       "Christianshavn     263\n",
       "Amagerbro          214\n",
       "Other              129\n",
       "Teglholmen         103\n",
       "Name: neighbourhood_top, dtype: int64"
      ]
     },
     "execution_count": 7,
     "metadata": {},
     "output_type": "execute_result"
    }
   ],
   "source": [
    "# encode neighbourhoods with less than 100 listings as 'Other'\n",
    "df['neighbourhood_top'] = df['neighbourhood']\n",
    "not_in_top_neighbourhoods = df['neighbourhood'].apply(lambda x: not(x in top_neighbourhoods)) & df.neighbourhood.notnull()\n",
    "df.loc[not_in_top_neighbourhoods, 'neighbourhood_top'] = 'Other'\n",
    "df.neighbourhood_top.value_counts()"
   ]
  },
  {
   "cell_type": "code",
   "execution_count": 10,
   "metadata": {},
   "outputs": [],
   "source": [
    "# 4. analyze & visualize the data\n",
    "def describe_numeric(group_by, numeric, \n",
    "                     show_stdev=False,\n",
    "                     show_mean_ungrouped=False,\n",
    "                     show_mean_grouped=False, \n",
    "                     show_boxplot=False, \n",
    "                     show_barchart=False):\n",
    "    '''\n",
    "    INPUT:\n",
    "    group_by - a variable to group by\n",
    "    numeric - a numeric variable to draw the means and boxplots for\n",
    "    \n",
    "    Calculates the \n",
    "        1) mean per group\n",
    "        2) standard deviation of the means\n",
    "        3) draws a boxplot of the numeric variable\n",
    "    '''\n",
    "    mean_grouped = df.groupby(group_by)[numeric].mean()\n",
    "    mean_ungrouped = df[numeric].mean()\n",
    "    if show_stdev:\n",
    "        print('Standard deviation of means:', statistics.stdev(mean_grouped))\n",
    "    if show_mean_ungrouped:\n",
    "        print('Ungrouped mean:', mean_ungrouped)\n",
    "    if show_mean_grouped:\n",
    "        print(mean_grouped.sort_values(ascending=False))\n",
    "    if show_barchart:\n",
    "        fig, ax = plt.subplots(figsize=(10,8))\n",
    "        plt.suptitle('')\n",
    "        mean_grouped.sort_values().plot.barh()\n",
    "        ax.axvline(x=mean_ungrouped, linewidth=1, color='r')\n",
    "    if show_boxplot:\n",
    "        fig, ax = plt.subplots(figsize=(10,8))\n",
    "        plt.suptitle('')\n",
    "        df.boxplot(column=[numeric], by=group_by, ax=ax, vert=False)"
   ]
  },
  {
   "cell_type": "markdown",
   "metadata": {},
   "source": [
    "#### 1.A Best average rating"
   ]
  },
  {
   "cell_type": "code",
   "execution_count": 11,
   "metadata": {},
   "outputs": [
    {
     "name": "stdout",
     "output_type": "stream",
     "text": [
      "Standard deviation of means: 0.534493389961756\n",
      "Ungrouped mean: 95.13869303525365\n",
      "neighbourhood_top\n",
      "Amager Vest       95.936508\n",
      "Islands Brygge    95.764192\n",
      "Christianshavn    95.640553\n",
      "Frederiksberg     95.562572\n",
      "Other             95.561905\n",
      "Vesterbro         95.431455\n",
      "Amagerbro         95.425532\n",
      "Østerbro          95.362876\n",
      "Amager            95.311555\n",
      "Teglholmen        95.232877\n",
      "Nørrebro          94.982218\n",
      "Indre By          94.900753\n",
      "Amager Øst        94.781447\n",
      "Valby             94.616255\n",
      "Brønshøj          94.541147\n",
      "København NV      94.270940\n",
      "Vanløse           94.097521\n",
      "Name: review_scores_rating, dtype: float64\n"
     ]
    },
    {
     "data": {
      "image/png": "[encoded data removed]",
      "text/plain": [
       "<Figure size 720x576 with 1 Axes>"
      ]
     },
     "metadata": {
      "needs_background": "light"
     },
     "output_type": "display_data"
    },
    {
     "data": {
      "image/png": "[encoded data removed]",
      "text/plain": [
       "<Figure size 720x576 with 1 Axes>"
      ]
     },
     "metadata": {
      "needs_background": "light"
     },
     "output_type": "display_data"
    }
   ],
   "source": [
    "describe_numeric('neighbourhood_top', 'review_scores_rating', \n",
    "                 show_stdev=True, \n",
    "                 show_mean_ungrouped=True, show_mean_grouped=True, \n",
    "                 show_barchart=True, show_boxplot=True)"
   ]
  },
  {
   "cell_type": "markdown",
   "metadata": {},
   "source": [
    "#### 1.B Best location"
   ]
  },
  {
   "cell_type": "code",
   "execution_count": 12,
   "metadata": {},
   "outputs": [
    {
     "name": "stdout",
     "output_type": "stream",
     "text": [
      "Standard deviation of means: 0.24111121005949154\n",
      "Ungrouped mean: 9.590574247189075\n",
      "neighbourhood_top\n",
      "Christianshavn    9.949309\n",
      "Indre By          9.893654\n",
      "Islands Brygge    9.746725\n",
      "Other             9.695238\n",
      "Vesterbro         9.676215\n",
      "Frederiksberg     9.662701\n",
      "Nørrebro          9.598574\n",
      "Amager Vest       9.577017\n",
      "Amager            9.560303\n",
      "Østerbro          9.540235\n",
      "Amagerbro         9.534759\n",
      "Amager Øst        9.512579\n",
      "Teglholmen        9.342466\n",
      "Valby             9.323347\n",
      "Brønshøj          9.241895\n",
      "Vanløse           9.228099\n",
      "København NV      9.030822\n",
      "Name: review_scores_location, dtype: float64\n"
     ]
    },
    {
     "data": {
      "image/png": "[encoded data removed]",
      "text/plain": [
       "<Figure size 720x576 with 1 Axes>"
      ]
     },
     "metadata": {
      "needs_background": "light"
     },
     "output_type": "display_data"
    }
   ],
   "source": [
    "describe_numeric('neighbourhood_top', 'review_scores_location', \n",
    "                 show_stdev=True, \n",
    "                 show_mean_ungrouped=True, show_mean_grouped=True, \n",
    "                 show_barchart=True) \n",
    "#                  show_stdev=True, show_barchart=True)"
   ]
  },
  {
   "cell_type": "markdown",
   "metadata": {},
   "source": [
    "#### 1.C Any other interesting trends by location?\n",
    "Check if any other review categories have a high variance among the neighborhood averages."
   ]
  },
  {
   "cell_type": "code",
   "execution_count": 13,
   "metadata": {},
   "outputs": [
    {
     "name": "stdout",
     "output_type": "stream",
     "text": [
      "Standard deviation of means: 0.05110210636922336\n"
     ]
    }
   ],
   "source": [
    "describe_numeric('neighbourhood_top', 'review_scores_value', \n",
    "                 show_stdev=True)"
   ]
  },
  {
   "cell_type": "code",
   "execution_count": 14,
   "metadata": {},
   "outputs": [
    {
     "name": "stdout",
     "output_type": "stream",
     "text": [
      "Standard deviation of means: 0.03551443995858143\n"
     ]
    }
   ],
   "source": [
    "describe_numeric('neighbourhood_top', 'review_scores_communication', \n",
    "                 show_stdev=True)"
   ]
  },
  {
   "cell_type": "code",
   "execution_count": 15,
   "metadata": {},
   "outputs": [
    {
     "name": "stdout",
     "output_type": "stream",
     "text": [
      "Standard deviation of means: 0.036429722862964066\n"
     ]
    }
   ],
   "source": [
    "describe_numeric('neighbourhood_top', 'review_scores_checkin', \n",
    "                 show_stdev=True)"
   ]
  },
  {
   "cell_type": "code",
   "execution_count": 16,
   "metadata": {},
   "outputs": [
    {
     "name": "stdout",
     "output_type": "stream",
     "text": [
      "Standard deviation of means: 0.07383083125566417\n"
     ]
    }
   ],
   "source": [
    "describe_numeric('neighbourhood_top', 'review_scores_cleanliness', \n",
    "                 show_stdev=True)"
   ]
  },
  {
   "cell_type": "code",
   "execution_count": 17,
   "metadata": {},
   "outputs": [
    {
     "name": "stdout",
     "output_type": "stream",
     "text": [
      "Standard deviation of means: 0.03923012610480205\n"
     ]
    }
   ],
   "source": [
    "describe_numeric('neighbourhood_top', 'review_scores_accuracy', \n",
    "                 show_stdev=True)"
   ]
  },
  {
   "cell_type": "markdown",
   "metadata": {},
   "source": [
    "### 2. Display the average location rating on a map"
   ]
  },
  {
   "cell_type": "code",
   "execution_count": 18,
   "metadata": {},
   "outputs": [
    {
     "data": {
      "text/html": [
       "<div>\n",
       "<style scoped>\n",
       "    .dataframe tbody tr th:only-of-type {\n",
       "        vertical-align: middle;\n",
       "    }\n",
       "\n",
       "    .dataframe tbody tr th {\n",
       "        vertical-align: top;\n",
       "    }\n",
       "\n",
       "    .dataframe thead th {\n",
       "        text-align: right;\n",
       "    }\n",
       "</style>\n",
       "<table border=\"1\" class=\"dataframe\">\n",
       "  <thead>\n",
       "    <tr style=\"text-align: right;\">\n",
       "      <th></th>\n",
       "      <th>neighbourhood_top</th>\n",
       "      <th>lat</th>\n",
       "      <th>lon</th>\n",
       "      <th>count_listings</th>\n",
       "      <th>mean_location_score</th>\n",
       "      <th>diff_location_score</th>\n",
       "      <th>text</th>\n",
       "    </tr>\n",
       "  </thead>\n",
       "  <tbody>\n",
       "    <tr>\n",
       "      <td>0</td>\n",
       "      <td>Amager</td>\n",
       "      <td>55.655861</td>\n",
       "      <td>12.601920</td>\n",
       "      <td>2340</td>\n",
       "      <td>9.560303</td>\n",
       "      <td>-0.030271</td>\n",
       "      <td>Amager; Average location score: 9.560302866414277</td>\n",
       "    </tr>\n",
       "    <tr>\n",
       "      <td>1</td>\n",
       "      <td>Amager Vest</td>\n",
       "      <td>55.651334</td>\n",
       "      <td>12.587681</td>\n",
       "      <td>1051</td>\n",
       "      <td>9.577017</td>\n",
       "      <td>-0.013557</td>\n",
       "      <td>Amager Vest; Average location score: 9.5770171...</td>\n",
       "    </tr>\n",
       "    <tr>\n",
       "      <td>2</td>\n",
       "      <td>Amager Øst</td>\n",
       "      <td>55.659250</td>\n",
       "      <td>12.616878</td>\n",
       "      <td>776</td>\n",
       "      <td>9.512579</td>\n",
       "      <td>-0.077996</td>\n",
       "      <td>Amager Øst; Average location score: 9.51257861...</td>\n",
       "    </tr>\n",
       "    <tr>\n",
       "      <td>3</td>\n",
       "      <td>Amagerbro</td>\n",
       "      <td>55.663465</td>\n",
       "      <td>12.612529</td>\n",
       "      <td>214</td>\n",
       "      <td>9.534759</td>\n",
       "      <td>-0.055815</td>\n",
       "      <td>Amagerbro; Average location score: 9.534759358...</td>\n",
       "    </tr>\n",
       "    <tr>\n",
       "      <td>4</td>\n",
       "      <td>Brønshøj</td>\n",
       "      <td>55.706578</td>\n",
       "      <td>12.490982</td>\n",
       "      <td>538</td>\n",
       "      <td>9.241895</td>\n",
       "      <td>-0.348679</td>\n",
       "      <td>Brønshøj; Average location score: 9.2418952618...</td>\n",
       "    </tr>\n",
       "  </tbody>\n",
       "</table>\n",
       "</div>"
      ],
      "text/plain": [
       "  neighbourhood_top        lat        lon  count_listings  \\\n",
       "0            Amager  55.655861  12.601920            2340   \n",
       "1       Amager Vest  55.651334  12.587681            1051   \n",
       "2        Amager Øst  55.659250  12.616878             776   \n",
       "3         Amagerbro  55.663465  12.612529             214   \n",
       "4          Brønshøj  55.706578  12.490982             538   \n",
       "\n",
       "   mean_location_score  diff_location_score  \\\n",
       "0             9.560303            -0.030271   \n",
       "1             9.577017            -0.013557   \n",
       "2             9.512579            -0.077996   \n",
       "3             9.534759            -0.055815   \n",
       "4             9.241895            -0.348679   \n",
       "\n",
       "                                                text  \n",
       "0  Amager; Average location score: 9.560302866414277  \n",
       "1  Amager Vest; Average location score: 9.5770171...  \n",
       "2  Amager Øst; Average location score: 9.51257861...  \n",
       "3  Amagerbro; Average location score: 9.534759358...  \n",
       "4  Brønshøj; Average location score: 9.2418952618...  "
      ]
     },
     "execution_count": 18,
     "metadata": {},
     "output_type": "execute_result"
    }
   ],
   "source": [
    "# 6. visualize the data\n",
    "# prepare a dataframe for mapping\n",
    "count_listings = df.groupby('neighbourhood_top')['neighbourhood_top'].count()\n",
    "mean_latitude = df.groupby('neighbourhood_top')['latitude'].mean()\n",
    "mean_longitude = df.groupby('neighbourhood_top')['longitude'].mean()\n",
    "mean_location_score = df.groupby('neighbourhood_top')['review_scores_location'].mean()\n",
    "mean_location_score_ungrouped = df['review_scores_location'].mean()\n",
    "diff_location_score = mean_location_score - mean_location_score_ungrouped\n",
    "df_for_map = pd.DataFrame({\n",
    "    'lat': mean_latitude,\n",
    "    'lon': mean_longitude,\n",
    "    'count_listings': count_listings,\n",
    "    'mean_location_score': mean_location_score,\n",
    "    'diff_location_score': diff_location_score\n",
    "    })\n",
    "df_for_map.reset_index(level=0, inplace=True)\n",
    "df_for_map['text'] = df_for_map['neighbourhood_top'] + '; ' + \\\n",
    "'Average location score: ' + df_for_map['mean_location_score'].astype(str)\n",
    "df_for_map.head()"
   ]
  },
  {
   "cell_type": "code",
   "execution_count": 24,
   "metadata": {
    "scrolled": false
   },
   "outputs": [
    {
     "data": {
      "application/vnd.plotly.v1+json": {
       "config": {
        "plotlyServerURL": "https://plot.ly"
       },
       "data": [
        {
         "geo": "geo",
         "hoverlabel": {
          "namelength": 0
         },
         "hovertemplate": "<b>%{hovertext}</b><br><br>count_listings=%{marker.size}<br>lat=%{lat}<br>lon=%{lon}<br>diff_location_score=%{marker.color}",
         "hovertext": [
          "Amager; Average location score: 9.560302866414277",
          "Amager Vest; Average location score: 9.577017114914426",
          "Amager Øst; Average location score: 9.5125786163522",
          "Amagerbro; Average location score: 9.53475935828877",
          "Brønshøj; Average location score: 9.241895261845386",
          "Christianshavn; Average location score: 9.949308755760368",
          "Frederiksberg; Average location score: 9.662701458173446",
          "Indre By; Average location score: 9.893653516295025",
          "Islands Brygge; Average location score: 9.746724890829695",
          "København NV; Average location score: 9.030821917808218",
          "Nørrebro; Average location score: 9.598574292715528",
          "Other; Average location score: 9.695238095238095",
          "Teglholmen; Average location score: 9.342465753424657",
          "Valby; Average location score: 9.323347107438016",
          "Vanløse; Average location score: 9.22809917355372",
          "Vesterbro; Average location score: 9.676214546475709",
          "Østerbro; Average location score: 9.540234702430846"
         ],
         "lat": [
          55.65586095726487,
          55.65133403425309,
          55.65924954896908,
          55.66346467289721,
          55.70657782527883,
          55.67260889733842,
          55.6818126962143,
          55.682264321739105,
          55.66364761029407,
          55.70621068435763,
          55.69429964299583,
          55.66628325581396,
          55.65066485436893,
          55.66263278782891,
          55.69107663157895,
          55.664777843511494,
          55.70594224346068
         ],
         "legendgroup": "",
         "lon": [
          12.601920316239307,
          12.587680637488102,
          12.616877770618562,
          12.6125288317757,
          12.490982137546462,
          12.592082547528522,
          12.533181831332744,
          12.579887736231894,
          12.577057867647062,
          12.530743386871544,
          12.55020873108263,
          12.56657658914728,
          12.551585728155343,
          12.505332689144726,
          12.494889828947361,
          12.548687531011447,
          12.57837083836352
         ],
         "marker": {
          "color": [
           -0.030271380774797407,
           -0.013557132274648609,
           -0.07799563083687389,
           -0.05581488890030428,
           -0.3486789853436889,
           0.35873450857129363,
           0.07212721098437136,
           0.3030792691059503,
           0.15615064364062015,
           -0.5597523293808564,
           0.008000045526452837,
           0.10466384804901985,
           -0.24810849376441801,
           -0.26722713975105883,
           -0.36247507363535547,
           0.0856402992866343,
           -0.05033954475822888
          ],
          "coloraxis": "coloraxis",
          "size": [
           2340,
           1051,
           776,
           214,
           538,
           263,
           3249,
           3450,
           272,
           1432,
           5154,
           129,
           103,
           1216,
           760,
           4192,
           2982
          ],
          "sizemode": "area",
          "sizeref": 12.885
         },
         "name": "",
         "showlegend": false,
         "type": "scattergeo"
        }
       ],
       "layout": {
        "coloraxis": {
         "colorbar": {
          "title": {
           "text": "diff_location_score"
          }
         },
         "colorscale": [
          [
           0,
           "#0d0887"
          ],
          [
           0.1111111111111111,
           "#46039f"
          ],
          [
           0.2222222222222222,
           "#7201a8"
          ],
          [
           0.3333333333333333,
           "#9c179e"
          ],
          [
           0.4444444444444444,
           "#bd3786"
          ],
          [
           0.5555555555555556,
           "#d8576b"
          ],
          [
           0.6666666666666666,
           "#ed7953"
          ],
          [
           0.7777777777777778,
           "#fb9f3a"
          ],
          [
           0.8888888888888888,
           "#fdca26"
          ],
          [
           1,
           "#f0f921"
          ]
         ]
        },
        "geo": {
         "center": {},
         "domain": {
          "x": [
           0,
           1
          ],
          "y": [
           0,
           1
          ]
         },
         "lataxis": {
          "range": [
           55.5,
           55.8
          ]
         },
         "lonaxis": {
          "range": [
           12.3,
           13
          ]
         },
         "projection": {
          "type": "natural earth"
         },
         "resolution": 50,
         "scope": "europe"
        },
        "legend": {
         "itemsizing": "constant",
         "tracegroupgap": 0
        },
        "template": {
         "data": {
          "bar": [
           {
            "error_x": {
             "color": "#2a3f5f"
            },
            "error_y": {
             "color": "#2a3f5f"
            },
            "marker": {
             "line": {
              "color": "#E5ECF6",
              "width": 0.5
             }
            },
            "type": "bar"
           }
          ],
          "barpolar": [
           {
            "marker": {
             "line": {
              "color": "#E5ECF6",
              "width": 0.5
             }
            },
            "type": "barpolar"
           }
          ],
          "carpet": [
           {
            "aaxis": {
             "endlinecolor": "#2a3f5f",
             "gridcolor": "white",
             "linecolor": "white",
             "minorgridcolor": "white",
             "startlinecolor": "#2a3f5f"
            },
            "baxis": {
             "endlinecolor": "#2a3f5f",
             "gridcolor": "white",
             "linecolor": "white",
             "minorgridcolor": "white",
             "startlinecolor": "#2a3f5f"
            },
            "type": "carpet"
           }
          ],
          "choropleth": [
           {
            "colorbar": {
             "outlinewidth": 0,
             "ticks": ""
            },
            "type": "choropleth"
           }
          ],
          "contour": [
           {
            "colorbar": {
             "outlinewidth": 0,
             "ticks": ""
            },
            "colorscale": [
             [
              0,
              "#0d0887"
             ],
             [
              0.1111111111111111,
              "#46039f"
             ],
             [
              0.2222222222222222,
              "#7201a8"
             ],
             [
              0.3333333333333333,
              "#9c179e"
             ],
             [
              0.4444444444444444,
              "#bd3786"
             ],
             [
              0.5555555555555556,
              "#d8576b"
             ],
             [
              0.6666666666666666,
              "#ed7953"
             ],
             [
              0.7777777777777778,
              "#fb9f3a"
             ],
             [
              0.8888888888888888,
              "#fdca26"
             ],
             [
              1,
              "#f0f921"
             ]
            ],
            "type": "contour"
           }
          ],
          "contourcarpet": [
           {
            "colorbar": {
             "outlinewidth": 0,
             "ticks": ""
            },
            "type": "contourcarpet"
           }
          ],
          "heatmap": [
           {
            "colorbar": {
             "outlinewidth": 0,
             "ticks": ""
            },
            "colorscale": [
             [
              0,
              "#0d0887"
             ],
             [
              0.1111111111111111,
              "#46039f"
             ],
             [
              0.2222222222222222,
              "#7201a8"
             ],
             [
              0.3333333333333333,
              "#9c179e"
             ],
             [
              0.4444444444444444,
              "#bd3786"
             ],
             [
              0.5555555555555556,
              "#d8576b"
             ],
             [
              0.6666666666666666,
              "#ed7953"
             ],
             [
              0.7777777777777778,
              "#fb9f3a"
             ],
             [
              0.8888888888888888,
              "#fdca26"
             ],
             [
              1,
              "#f0f921"
             ]
            ],
            "type": "heatmap"
           }
          ],
          "heatmapgl": [
           {
            "colorbar": {
             "outlinewidth": 0,
             "ticks": ""
            },
            "colorscale": [
             [
              0,
              "#0d0887"
             ],
             [
              0.1111111111111111,
              "#46039f"
             ],
             [
              0.2222222222222222,
              "#7201a8"
             ],
             [
              0.3333333333333333,
              "#9c179e"
             ],
             [
              0.4444444444444444,
              "#bd3786"
             ],
             [
              0.5555555555555556,
              "#d8576b"
             ],
             [
              0.6666666666666666,
              "#ed7953"
             ],
             [
              0.7777777777777778,
              "#fb9f3a"
             ],
             [
              0.8888888888888888,
              "#fdca26"
             ],
             [
              1,
              "#f0f921"
             ]
            ],
            "type": "heatmapgl"
           }
          ],
          "histogram": [
           {
            "marker": {
             "colorbar": {
              "outlinewidth": 0,
              "ticks": ""
             }
            },
            "type": "histogram"
           }
          ],
          "histogram2d": [
           {
            "colorbar": {
             "outlinewidth": 0,
             "ticks": ""
            },
            "colorscale": [
             [
              0,
              "#0d0887"
             ],
             [
              0.1111111111111111,
              "#46039f"
             ],
             [
              0.2222222222222222,
              "#7201a8"
             ],
             [
              0.3333333333333333,
              "#9c179e"
             ],
             [
              0.4444444444444444,
              "#bd3786"
             ],
             [
              0.5555555555555556,
              "#d8576b"
             ],
             [
              0.6666666666666666,
              "#ed7953"
             ],
             [
              0.7777777777777778,
              "#fb9f3a"
             ],
             [
              0.8888888888888888,
              "#fdca26"
             ],
             [
              1,
              "#f0f921"
             ]
            ],
            "type": "histogram2d"
           }
          ],
          "histogram2dcontour": [
           {
            "colorbar": {
             "outlinewidth": 0,
             "ticks": ""
            },
            "colorscale": [
             [
              0,
              "#0d0887"
             ],
             [
              0.1111111111111111,
              "#46039f"
             ],
             [
              0.2222222222222222,
              "#7201a8"
             ],
             [
              0.3333333333333333,
              "#9c179e"
             ],
             [
              0.4444444444444444,
              "#bd3786"
             ],
             [
              0.5555555555555556,
              "#d8576b"
             ],
             [
              0.6666666666666666,
              "#ed7953"
             ],
             [
              0.7777777777777778,
              "#fb9f3a"
             ],
             [
              0.8888888888888888,
              "#fdca26"
             ],
             [
              1,
              "#f0f921"
             ]
            ],
            "type": "histogram2dcontour"
           }
          ],
          "mesh3d": [
           {
            "colorbar": {
             "outlinewidth": 0,
             "ticks": ""
            },
            "type": "mesh3d"
           }
          ],
          "parcoords": [
           {
            "line": {
             "colorbar": {
              "outlinewidth": 0,
              "ticks": ""
             }
            },
            "type": "parcoords"
           }
          ],
          "pie": [
           {
            "automargin": true,
            "type": "pie"
           }
          ],
          "scatter": [
           {
            "marker": {
             "colorbar": {
              "outlinewidth": 0,
              "ticks": ""
             }
            },
            "type": "scatter"
           }
          ],
          "scatter3d": [
           {
            "line": {
             "colorbar": {
              "outlinewidth": 0,
              "ticks": ""
             }
            },
            "marker": {
             "colorbar": {
              "outlinewidth": 0,
              "ticks": ""
             }
            },
            "type": "scatter3d"
           }
          ],
          "scattercarpet": [
           {
            "marker": {
             "colorbar": {
              "outlinewidth": 0,
              "ticks": ""
             }
            },
            "type": "scattercarpet"
           }
          ],
          "scattergeo": [
           {
            "marker": {
             "colorbar": {
              "outlinewidth": 0,
              "ticks": ""
             }
            },
            "type": "scattergeo"
           }
          ],
          "scattergl": [
           {
            "marker": {
             "colorbar": {
              "outlinewidth": 0,
              "ticks": ""
             }
            },
            "type": "scattergl"
           }
          ],
          "scattermapbox": [
           {
            "marker": {
             "colorbar": {
              "outlinewidth": 0,
              "ticks": ""
             }
            },
            "type": "scattermapbox"
           }
          ],
          "scatterpolar": [
           {
            "marker": {
             "colorbar": {
              "outlinewidth": 0,
              "ticks": ""
             }
            },
            "type": "scatterpolar"
           }
          ],
          "scatterpolargl": [
           {
            "marker": {
             "colorbar": {
              "outlinewidth": 0,
              "ticks": ""
             }
            },
            "type": "scatterpolargl"
           }
          ],
          "scatterternary": [
           {
            "marker": {
             "colorbar": {
              "outlinewidth": 0,
              "ticks": ""
             }
            },
            "type": "scatterternary"
           }
          ],
          "surface": [
           {
            "colorbar": {
             "outlinewidth": 0,
             "ticks": ""
            },
            "colorscale": [
             [
              0,
              "#0d0887"
             ],
             [
              0.1111111111111111,
              "#46039f"
             ],
             [
              0.2222222222222222,
              "#7201a8"
             ],
             [
              0.3333333333333333,
              "#9c179e"
             ],
             [
              0.4444444444444444,
              "#bd3786"
             ],
             [
              0.5555555555555556,
              "#d8576b"
             ],
             [
              0.6666666666666666,
              "#ed7953"
             ],
             [
              0.7777777777777778,
              "#fb9f3a"
             ],
             [
              0.8888888888888888,
              "#fdca26"
             ],
             [
              1,
              "#f0f921"
             ]
            ],
            "type": "surface"
           }
          ],
          "table": [
           {
            "cells": {
             "fill": {
              "color": "#EBF0F8"
             },
             "line": {
              "color": "white"
             }
            },
            "header": {
             "fill": {
              "color": "#C8D4E3"
             },
             "line": {
              "color": "white"
             }
            },
            "type": "table"
           }
          ]
         },
         "layout": {
          "annotationdefaults": {
           "arrowcolor": "#2a3f5f",
           "arrowhead": 0,
           "arrowwidth": 1
          },
          "coloraxis": {
           "colorbar": {
            "outlinewidth": 0,
            "ticks": ""
           }
          },
          "colorscale": {
           "diverging": [
            [
             0,
             "#8e0152"
            ],
            [
             0.1,
             "#c51b7d"
            ],
            [
             0.2,
             "#de77ae"
            ],
            [
             0.3,
             "#f1b6da"
            ],
            [
             0.4,
             "#fde0ef"
            ],
            [
             0.5,
             "#f7f7f7"
            ],
            [
             0.6,
             "#e6f5d0"
            ],
            [
             0.7,
             "#b8e186"
            ],
            [
             0.8,
             "#7fbc41"
            ],
            [
             0.9,
             "#4d9221"
            ],
            [
             1,
             "#276419"
            ]
           ],
           "sequential": [
            [
             0,
             "#0d0887"
            ],
            [
             0.1111111111111111,
             "#46039f"
            ],
            [
             0.2222222222222222,
             "#7201a8"
            ],
            [
             0.3333333333333333,
             "#9c179e"
            ],
            [
             0.4444444444444444,
             "#bd3786"
            ],
            [
             0.5555555555555556,
             "#d8576b"
            ],
            [
             0.6666666666666666,
             "#ed7953"
            ],
            [
             0.7777777777777778,
             "#fb9f3a"
            ],
            [
             0.8888888888888888,
             "#fdca26"
            ],
            [
             1,
             "#f0f921"
            ]
           ],
           "sequentialminus": [
            [
             0,
             "#0d0887"
            ],
            [
             0.1111111111111111,
             "#46039f"
            ],
            [
             0.2222222222222222,
             "#7201a8"
            ],
            [
             0.3333333333333333,
             "#9c179e"
            ],
            [
             0.4444444444444444,
             "#bd3786"
            ],
            [
             0.5555555555555556,
             "#d8576b"
            ],
            [
             0.6666666666666666,
             "#ed7953"
            ],
            [
             0.7777777777777778,
             "#fb9f3a"
            ],
            [
             0.8888888888888888,
             "#fdca26"
            ],
            [
             1,
             "#f0f921"
            ]
           ]
          },
          "colorway": [
           "#636efa",
           "#EF553B",
           "#00cc96",
           "#ab63fa",
           "#FFA15A",
           "#19d3f3",
           "#FF6692",
           "#B6E880",
           "#FF97FF",
           "#FECB52"
          ],
          "font": {
           "color": "#2a3f5f"
          },
          "geo": {
           "bgcolor": "white",
           "lakecolor": "white",
           "landcolor": "#E5ECF6",
           "showlakes": true,
           "showland": true,
           "subunitcolor": "white"
          },
          "hoverlabel": {
           "align": "left"
          },
          "hovermode": "closest",
          "mapbox": {
           "style": "light"
          },
          "paper_bgcolor": "white",
          "plot_bgcolor": "#E5ECF6",
          "polar": {
           "angularaxis": {
            "gridcolor": "white",
            "linecolor": "white",
            "ticks": ""
           },
           "bgcolor": "#E5ECF6",
           "radialaxis": {
            "gridcolor": "white",
            "linecolor": "white",
            "ticks": ""
           }
          },
          "scene": {
           "xaxis": {
            "backgroundcolor": "#E5ECF6",
            "gridcolor": "white",
            "gridwidth": 2,
            "linecolor": "white",
            "showbackground": true,
            "ticks": "",
            "zerolinecolor": "white"
           },
           "yaxis": {
            "backgroundcolor": "#E5ECF6",
            "gridcolor": "white",
            "gridwidth": 2,
            "linecolor": "white",
            "showbackground": true,
            "ticks": "",
            "zerolinecolor": "white"
           },
           "zaxis": {
            "backgroundcolor": "#E5ECF6",
            "gridcolor": "white",
            "gridwidth": 2,
            "linecolor": "white",
            "showbackground": true,
            "ticks": "",
            "zerolinecolor": "white"
           }
          },
          "shapedefaults": {
           "line": {
            "color": "#2a3f5f"
           }
          },
          "ternary": {
           "aaxis": {
            "gridcolor": "white",
            "linecolor": "white",
            "ticks": ""
           },
           "baxis": {
            "gridcolor": "white",
            "linecolor": "white",
            "ticks": ""
           },
           "bgcolor": "#E5ECF6",
           "caxis": {
            "gridcolor": "white",
            "linecolor": "white",
            "ticks": ""
           }
          },
          "title": {
           "x": 0.05
          },
          "xaxis": {
           "automargin": true,
           "gridcolor": "white",
           "linecolor": "white",
           "ticks": "",
           "title": {
            "standoff": 15
           },
           "zerolinecolor": "white",
           "zerolinewidth": 2
          },
          "yaxis": {
           "automargin": true,
           "gridcolor": "white",
           "linecolor": "white",
           "ticks": "",
           "title": {
            "standoff": 15
           },
           "zerolinecolor": "white",
           "zerolinewidth": 2
          }
         }
        },
        "title": {
         "text": "Average location score, difference from the Copenhagen average"
        }
       }
      },
      "text/html": [
       "<div>\n",
       "        \n",
       "        \n",
       "            <div id=\"1d9f209f-4c21-4bcd-b815-58c3ddbe9fb7\" class=\"plotly-graph-div\" style=\"height:525px; width:100%;\"></div>\n",
       "            <script type=\"text/javascript\">\n",
       "                require([\"plotly\"], function(Plotly) {\n",
       "                    window.PLOTLYENV=window.PLOTLYENV || {};\n",
       "                    \n",
       "                if (document.getElementById(\"1d9f209f-4c21-4bcd-b815-58c3ddbe9fb7\")) {\n",
       "                    Plotly.newPlot(\n",
       "                        '1d9f209f-4c21-4bcd-b815-58c3ddbe9fb7',\n",
       "                        [{\"geo\": \"geo\", \"hoverlabel\": {\"namelength\": 0}, \"hovertemplate\": \"<b>%{hovertext}</b><br><br>count_listings=%{marker.size}<br>lat=%{lat}<br>lon=%{lon}<br>diff_location_score=%{marker.color}\", \"hovertext\": [\"Amager; Average location score: 9.560302866414277\", \"Amager Vest; Average location score: 9.577017114914426\", \"Amager \\u00d8st; Average location score: 9.5125786163522\", \"Amagerbro; Average location score: 9.53475935828877\", \"Br\\u00f8nsh\\u00f8j; Average location score: 9.241895261845386\", \"Christianshavn; Average location score: 9.949308755760368\", \"Frederiksberg; Average location score: 9.662701458173446\", \"Indre By; Average location score: 9.893653516295025\", \"Islands Brygge; Average location score: 9.746724890829695\", \"K\\u00f8benhavn NV; Average location score: 9.030821917808218\", \"N\\u00f8rrebro; Average location score: 9.598574292715528\", \"Other; Average location score: 9.695238095238095\", \"Teglholmen; Average location score: 9.342465753424657\", \"Valby; Average location score: 9.323347107438016\", \"Vanl\\u00f8se; Average location score: 9.22809917355372\", \"Vesterbro; Average location score: 9.676214546475709\", \"\\u00d8sterbro; Average location score: 9.540234702430846\"], \"lat\": [55.65586095726487, 55.65133403425309, 55.65924954896908, 55.66346467289721, 55.70657782527883, 55.67260889733842, 55.6818126962143, 55.682264321739105, 55.66364761029407, 55.70621068435763, 55.69429964299583, 55.66628325581396, 55.65066485436893, 55.66263278782891, 55.69107663157895, 55.664777843511494, 55.70594224346068], \"legendgroup\": \"\", \"lon\": [12.601920316239307, 12.587680637488102, 12.616877770618562, 12.6125288317757, 12.490982137546462, 12.592082547528522, 12.533181831332744, 12.579887736231894, 12.577057867647062, 12.530743386871544, 12.55020873108263, 12.56657658914728, 12.551585728155343, 12.505332689144726, 12.494889828947361, 12.548687531011447, 12.57837083836352], \"marker\": {\"color\": [-0.030271380774797407, -0.013557132274648609, -0.07799563083687389, -0.05581488890030428, -0.3486789853436889, 0.35873450857129363, 0.07212721098437136, 0.3030792691059503, 0.15615064364062015, -0.5597523293808564, 0.008000045526452837, 0.10466384804901985, -0.24810849376441801, -0.26722713975105883, -0.36247507363535547, 0.0856402992866343, -0.05033954475822888], \"coloraxis\": \"coloraxis\", \"size\": [2340, 1051, 776, 214, 538, 263, 3249, 3450, 272, 1432, 5154, 129, 103, 1216, 760, 4192, 2982], \"sizemode\": \"area\", \"sizeref\": 12.885}, \"name\": \"\", \"showlegend\": false, \"type\": \"scattergeo\"}],\n",
       "                        {\"coloraxis\": {\"colorbar\": {\"title\": {\"text\": \"diff_location_score\"}}, \"colorscale\": [[0.0, \"#0d0887\"], [0.1111111111111111, \"#46039f\"], [0.2222222222222222, \"#7201a8\"], [0.3333333333333333, \"#9c179e\"], [0.4444444444444444, \"#bd3786\"], [0.5555555555555556, \"#d8576b\"], [0.6666666666666666, \"#ed7953\"], [0.7777777777777778, \"#fb9f3a\"], [0.8888888888888888, \"#fdca26\"], [1.0, \"#f0f921\"]]}, \"geo\": {\"center\": {}, \"domain\": {\"x\": [0.0, 1.0], \"y\": [0.0, 1.0]}, \"lataxis\": {\"range\": [55.5, 55.8]}, \"lonaxis\": {\"range\": [12.3, 13]}, \"projection\": {\"type\": \"natural earth\"}, \"resolution\": 50, \"scope\": \"europe\"}, \"legend\": {\"itemsizing\": \"constant\", \"tracegroupgap\": 0}, \"template\": {\"data\": {\"bar\": [{\"error_x\": {\"color\": \"#2a3f5f\"}, \"error_y\": {\"color\": \"#2a3f5f\"}, \"marker\": {\"line\": {\"color\": \"#E5ECF6\", \"width\": 0.5}}, \"type\": \"bar\"}], \"barpolar\": [{\"marker\": {\"line\": {\"color\": \"#E5ECF6\", \"width\": 0.5}}, \"type\": \"barpolar\"}], \"carpet\": [{\"aaxis\": {\"endlinecolor\": \"#2a3f5f\", \"gridcolor\": \"white\", \"linecolor\": \"white\", \"minorgridcolor\": \"white\", \"startlinecolor\": \"#2a3f5f\"}, \"baxis\": {\"endlinecolor\": \"#2a3f5f\", \"gridcolor\": \"white\", \"linecolor\": \"white\", \"minorgridcolor\": \"white\", \"startlinecolor\": \"#2a3f5f\"}, \"type\": \"carpet\"}], \"choropleth\": [{\"colorbar\": {\"outlinewidth\": 0, \"ticks\": \"\"}, \"type\": \"choropleth\"}], \"contour\": [{\"colorbar\": {\"outlinewidth\": 0, \"ticks\": \"\"}, \"colorscale\": [[0.0, \"#0d0887\"], [0.1111111111111111, \"#46039f\"], [0.2222222222222222, \"#7201a8\"], [0.3333333333333333, \"#9c179e\"], [0.4444444444444444, \"#bd3786\"], [0.5555555555555556, \"#d8576b\"], [0.6666666666666666, \"#ed7953\"], [0.7777777777777778, \"#fb9f3a\"], [0.8888888888888888, \"#fdca26\"], [1.0, \"#f0f921\"]], \"type\": \"contour\"}], \"contourcarpet\": [{\"colorbar\": {\"outlinewidth\": 0, \"ticks\": \"\"}, \"type\": \"contourcarpet\"}], \"heatmap\": [{\"colorbar\": {\"outlinewidth\": 0, \"ticks\": \"\"}, \"colorscale\": [[0.0, \"#0d0887\"], [0.1111111111111111, \"#46039f\"], [0.2222222222222222, \"#7201a8\"], [0.3333333333333333, \"#9c179e\"], [0.4444444444444444, \"#bd3786\"], [0.5555555555555556, \"#d8576b\"], [0.6666666666666666, \"#ed7953\"], [0.7777777777777778, \"#fb9f3a\"], [0.8888888888888888, \"#fdca26\"], [1.0, \"#f0f921\"]], \"type\": \"heatmap\"}], \"heatmapgl\": [{\"colorbar\": {\"outlinewidth\": 0, \"ticks\": \"\"}, \"colorscale\": [[0.0, \"#0d0887\"], [0.1111111111111111, \"#46039f\"], [0.2222222222222222, \"#7201a8\"], [0.3333333333333333, \"#9c179e\"], [0.4444444444444444, \"#bd3786\"], [0.5555555555555556, \"#d8576b\"], [0.6666666666666666, \"#ed7953\"], [0.7777777777777778, \"#fb9f3a\"], [0.8888888888888888, \"#fdca26\"], [1.0, \"#f0f921\"]], \"type\": \"heatmapgl\"}], \"histogram\": [{\"marker\": {\"colorbar\": {\"outlinewidth\": 0, \"ticks\": \"\"}}, \"type\": \"histogram\"}], \"histogram2d\": [{\"colorbar\": {\"outlinewidth\": 0, \"ticks\": \"\"}, \"colorscale\": [[0.0, \"#0d0887\"], [0.1111111111111111, \"#46039f\"], [0.2222222222222222, \"#7201a8\"], [0.3333333333333333, \"#9c179e\"], [0.4444444444444444, \"#bd3786\"], [0.5555555555555556, \"#d8576b\"], [0.6666666666666666, \"#ed7953\"], [0.7777777777777778, \"#fb9f3a\"], [0.8888888888888888, \"#fdca26\"], [1.0, \"#f0f921\"]], \"type\": \"histogram2d\"}], \"histogram2dcontour\": [{\"colorbar\": {\"outlinewidth\": 0, \"ticks\": \"\"}, \"colorscale\": [[0.0, \"#0d0887\"], [0.1111111111111111, \"#46039f\"], [0.2222222222222222, \"#7201a8\"], [0.3333333333333333, \"#9c179e\"], [0.4444444444444444, \"#bd3786\"], [0.5555555555555556, \"#d8576b\"], [0.6666666666666666, \"#ed7953\"], [0.7777777777777778, \"#fb9f3a\"], [0.8888888888888888, \"#fdca26\"], [1.0, \"#f0f921\"]], \"type\": \"histogram2dcontour\"}], \"mesh3d\": [{\"colorbar\": {\"outlinewidth\": 0, \"ticks\": \"\"}, \"type\": \"mesh3d\"}], \"parcoords\": [{\"line\": {\"colorbar\": {\"outlinewidth\": 0, \"ticks\": \"\"}}, \"type\": \"parcoords\"}], \"pie\": [{\"automargin\": true, \"type\": \"pie\"}], \"scatter\": [{\"marker\": {\"colorbar\": {\"outlinewidth\": 0, \"ticks\": \"\"}}, \"type\": \"scatter\"}], \"scatter3d\": [{\"line\": {\"colorbar\": {\"outlinewidth\": 0, \"ticks\": \"\"}}, \"marker\": {\"colorbar\": {\"outlinewidth\": 0, \"ticks\": \"\"}}, \"type\": \"scatter3d\"}], \"scattercarpet\": [{\"marker\": {\"colorbar\": {\"outlinewidth\": 0, \"ticks\": \"\"}}, \"type\": \"scattercarpet\"}], \"scattergeo\": [{\"marker\": {\"colorbar\": {\"outlinewidth\": 0, \"ticks\": \"\"}}, \"type\": \"scattergeo\"}], \"scattergl\": [{\"marker\": {\"colorbar\": {\"outlinewidth\": 0, \"ticks\": \"\"}}, \"type\": \"scattergl\"}], \"scattermapbox\": [{\"marker\": {\"colorbar\": {\"outlinewidth\": 0, \"ticks\": \"\"}}, \"type\": \"scattermapbox\"}], \"scatterpolar\": [{\"marker\": {\"colorbar\": {\"outlinewidth\": 0, \"ticks\": \"\"}}, \"type\": \"scatterpolar\"}], \"scatterpolargl\": [{\"marker\": {\"colorbar\": {\"outlinewidth\": 0, \"ticks\": \"\"}}, \"type\": \"scatterpolargl\"}], \"scatterternary\": [{\"marker\": {\"colorbar\": {\"outlinewidth\": 0, \"ticks\": \"\"}}, \"type\": \"scatterternary\"}], \"surface\": [{\"colorbar\": {\"outlinewidth\": 0, \"ticks\": \"\"}, \"colorscale\": [[0.0, \"#0d0887\"], [0.1111111111111111, \"#46039f\"], [0.2222222222222222, \"#7201a8\"], [0.3333333333333333, \"#9c179e\"], [0.4444444444444444, \"#bd3786\"], [0.5555555555555556, \"#d8576b\"], [0.6666666666666666, \"#ed7953\"], [0.7777777777777778, \"#fb9f3a\"], [0.8888888888888888, \"#fdca26\"], [1.0, \"#f0f921\"]], \"type\": \"surface\"}], \"table\": [{\"cells\": {\"fill\": {\"color\": \"#EBF0F8\"}, \"line\": {\"color\": \"white\"}}, \"header\": {\"fill\": {\"color\": \"#C8D4E3\"}, \"line\": {\"color\": \"white\"}}, \"type\": \"table\"}]}, \"layout\": {\"annotationdefaults\": {\"arrowcolor\": \"#2a3f5f\", \"arrowhead\": 0, \"arrowwidth\": 1}, \"coloraxis\": {\"colorbar\": {\"outlinewidth\": 0, \"ticks\": \"\"}}, \"colorscale\": {\"diverging\": [[0, \"#8e0152\"], [0.1, \"#c51b7d\"], [0.2, \"#de77ae\"], [0.3, \"#f1b6da\"], [0.4, \"#fde0ef\"], [0.5, \"#f7f7f7\"], [0.6, \"#e6f5d0\"], [0.7, \"#b8e186\"], [0.8, \"#7fbc41\"], [0.9, \"#4d9221\"], [1, \"#276419\"]], \"sequential\": [[0.0, \"#0d0887\"], [0.1111111111111111, \"#46039f\"], [0.2222222222222222, \"#7201a8\"], [0.3333333333333333, \"#9c179e\"], [0.4444444444444444, \"#bd3786\"], [0.5555555555555556, \"#d8576b\"], [0.6666666666666666, \"#ed7953\"], [0.7777777777777778, \"#fb9f3a\"], [0.8888888888888888, \"#fdca26\"], [1.0, \"#f0f921\"]], \"sequentialminus\": [[0.0, \"#0d0887\"], [0.1111111111111111, \"#46039f\"], [0.2222222222222222, \"#7201a8\"], [0.3333333333333333, \"#9c179e\"], [0.4444444444444444, \"#bd3786\"], [0.5555555555555556, \"#d8576b\"], [0.6666666666666666, \"#ed7953\"], [0.7777777777777778, \"#fb9f3a\"], [0.8888888888888888, \"#fdca26\"], [1.0, \"#f0f921\"]]}, \"colorway\": [\"#636efa\", \"#EF553B\", \"#00cc96\", \"#ab63fa\", \"#FFA15A\", \"#19d3f3\", \"#FF6692\", \"#B6E880\", \"#FF97FF\", \"#FECB52\"], \"font\": {\"color\": \"#2a3f5f\"}, \"geo\": {\"bgcolor\": \"white\", \"lakecolor\": \"white\", \"landcolor\": \"#E5ECF6\", \"showlakes\": true, \"showland\": true, \"subunitcolor\": \"white\"}, \"hoverlabel\": {\"align\": \"left\"}, \"hovermode\": \"closest\", \"mapbox\": {\"style\": \"light\"}, \"paper_bgcolor\": \"white\", \"plot_bgcolor\": \"#E5ECF6\", \"polar\": {\"angularaxis\": {\"gridcolor\": \"white\", \"linecolor\": \"white\", \"ticks\": \"\"}, \"bgcolor\": \"#E5ECF6\", \"radialaxis\": {\"gridcolor\": \"white\", \"linecolor\": \"white\", \"ticks\": \"\"}}, \"scene\": {\"xaxis\": {\"backgroundcolor\": \"#E5ECF6\", \"gridcolor\": \"white\", \"gridwidth\": 2, \"linecolor\": \"white\", \"showbackground\": true, \"ticks\": \"\", \"zerolinecolor\": \"white\"}, \"yaxis\": {\"backgroundcolor\": \"#E5ECF6\", \"gridcolor\": \"white\", \"gridwidth\": 2, \"linecolor\": \"white\", \"showbackground\": true, \"ticks\": \"\", \"zerolinecolor\": \"white\"}, \"zaxis\": {\"backgroundcolor\": \"#E5ECF6\", \"gridcolor\": \"white\", \"gridwidth\": 2, \"linecolor\": \"white\", \"showbackground\": true, \"ticks\": \"\", \"zerolinecolor\": \"white\"}}, \"shapedefaults\": {\"line\": {\"color\": \"#2a3f5f\"}}, \"ternary\": {\"aaxis\": {\"gridcolor\": \"white\", \"linecolor\": \"white\", \"ticks\": \"\"}, \"baxis\": {\"gridcolor\": \"white\", \"linecolor\": \"white\", \"ticks\": \"\"}, \"bgcolor\": \"#E5ECF6\", \"caxis\": {\"gridcolor\": \"white\", \"linecolor\": \"white\", \"ticks\": \"\"}}, \"title\": {\"x\": 0.05}, \"xaxis\": {\"automargin\": true, \"gridcolor\": \"white\", \"linecolor\": \"white\", \"ticks\": \"\", \"title\": {\"standoff\": 15}, \"zerolinecolor\": \"white\", \"zerolinewidth\": 2}, \"yaxis\": {\"automargin\": true, \"gridcolor\": \"white\", \"linecolor\": \"white\", \"ticks\": \"\", \"title\": {\"standoff\": 15}, \"zerolinecolor\": \"white\", \"zerolinewidth\": 2}}}, \"title\": {\"text\": \"Average location score, difference from the Copenhagen average\"}},\n",
       "                        {\"responsive\": true}\n",
       "                    ).then(function(){\n",
       "                            \n",
       "var gd = document.getElementById('1d9f209f-4c21-4bcd-b815-58c3ddbe9fb7');\n",
       "var x = new MutationObserver(function (mutations, observer) {{\n",
       "        var display = window.getComputedStyle(gd).display;\n",
       "        if (!display || display === 'none') {{\n",
       "            console.log([gd, 'removed!']);\n",
       "            Plotly.purge(gd);\n",
       "            observer.disconnect();\n",
       "        }}\n",
       "}});\n",
       "\n",
       "// Listen for the removal of the full notebook cells\n",
       "var notebookContainer = gd.closest('#notebook-container');\n",
       "if (notebookContainer) {{\n",
       "    x.observe(notebookContainer, {childList: true});\n",
       "}}\n",
       "\n",
       "// Listen for the clearing of the current output cell\n",
       "var outputEl = gd.closest('.output');\n",
       "if (outputEl) {{\n",
       "    x.observe(outputEl, {childList: true});\n",
       "}}\n",
       "\n",
       "                        })\n",
       "                };\n",
       "                });\n",
       "            </script>\n",
       "        </div>"
      ]
     },
     "metadata": {},
     "output_type": "display_data"
    }
   ],
   "source": [
    "fig = px.scatter_geo(df_for_map, #locations=\"iso_alpha\",\n",
    "                     title=\"Average location score, difference from the Copenhagen average\", \n",
    "                     lon = \"lon\", lat = \"lat\",\n",
    "                     color=\"diff_location_score\", # which column to use to set the color of markers\n",
    "                     hover_name=\"text\", # column added to hover information\n",
    "                     size=\"count_listings\", # size of markers\n",
    "                     projection=\"natural earth\")\n",
    "fig.update_geos(#fitbounds=\"locations\",\n",
    "                resolution=50, \n",
    "                scope=\"europe\",\n",
    "#                 showsubunits=True, subunitcolor=\"Blue\",\n",
    "                lataxis_range=[55.5,55.8], lonaxis_range=[12.3, 13]\n",
    "               )\n",
    "fig.show()"
   ]
  },
  {
   "cell_type": "markdown",
   "metadata": {},
   "source": [
    "### 3. Predicting the rating"
   ]
  },
  {
   "cell_type": "code",
   "execution_count": 95,
   "metadata": {},
   "outputs": [],
   "source": [
    "# 3. clean and analyze the data\n",
    "## Interesting columns\n",
    "columns_of_interest = ['host_since', 'host_response_time', 'host_response_rate', 'host_acceptance_rate', 'host_is_superhost', 'host_neighbourhood', 'host_listings_count', 'host_total_listings_count', 'host_has_profile_pic', 'host_identity_verified', 'neighbourhood', 'neighbourhood_cleansed', 'neighbourhood_group_cleansed', 'latitude', 'longitude', 'property_type', 'room_type', 'accommodates', 'bathrooms', 'bedrooms', 'beds', 'bed_type', 'square_feet', 'price', 'weekly_price', 'monthly_price', 'security_deposit', 'cleaning_fee', 'extra_people', 'minimum_nights', 'maximum_nights', 'availability_30', 'availability_60', 'availability_90', 'availability_365', 'number_of_reviews', 'first_review', 'last_review', 'review_scores_rating', 'review_scores_accuracy', 'review_scores_cleanliness', 'review_scores_checkin', 'review_scores_communication', 'review_scores_location', 'review_scores_value', 'instant_bookable', 'cancellation_policy', 'require_guest_profile_picture', 'require_guest_phone_verification', 'reviews_per_month', 'neighbourhood_top']"
   ]
  },
  {
   "cell_type": "code",
   "execution_count": 96,
   "metadata": {},
   "outputs": [
    {
     "name": "stdout",
     "output_type": "stream",
     "text": [
      "(28121, 107)\n",
      "0.17286014010881548\n"
     ]
    }
   ],
   "source": [
    "# missing ratings\n",
    "print(df.shape)\n",
    "print(np.mean(df.review_scores_rating.isnull()))"
   ]
  },
  {
   "cell_type": "code",
   "execution_count": 97,
   "metadata": {},
   "outputs": [
    {
     "name": "stdout",
     "output_type": "stream",
     "text": [
      "(23260, 51)\n"
     ]
    }
   ],
   "source": [
    "# only take listings with ratings\n",
    "# df_rated = df[df.review_scores_rating.notnull()]\n",
    "df_rated = df.dropna(subset=['review_scores_rating'])\n",
    "df_rated = df_rated[columns_of_interest]\n",
    "print(df_rated.shape)"
   ]
  },
  {
   "cell_type": "code",
   "execution_count": 98,
   "metadata": {},
   "outputs": [
    {
     "name": "stdout",
     "output_type": "stream",
     "text": [
      "missing in square_feet: 98.4%\n",
      "missing in cleaning_fee: 27.0%\n",
      "missing in security_deposit: 46.2%\n",
      "missing in host_response_time: 55.0%\n",
      "missing in host_response_rate: 55.0%\n",
      "missing in host_acceptance_rate: 100.0%\n"
     ]
    }
   ],
   "source": [
    "# missing\n",
    "def missing_fraction(df, fieldnames):\n",
    "    if isinstance(fieldnames, str):\n",
    "        fieldnames = [fieldnames]\n",
    "    for name in fieldnames:\n",
    "        print('missing in {}: {:.1%}'.format(name, np.mean(df[name].isnull())))\n",
    "\n",
    "missing_list = ['square_feet', 'cleaning_fee', 'security_deposit', \n",
    "                'host_response_time', 'host_response_rate', 'host_acceptance_rate']\n",
    "missing_fraction(df_rated, missing_list)"
   ]
  },
  {
   "cell_type": "markdown",
   "metadata": {},
   "source": [
    "#### A curious observation. \n",
    "By only allowing columns with no missing values (`allow_missing=0`) the count of remaining columns is just 23.\n",
    "However, when setting `allow_missing` to `0.01` or `0.20` it doesn't change the count of remaining columns at 41.\n",
    "\n",
    "This means that exactly half of the predictor columns with at least 80% of existing values actually have very few missing values. So it could be possible to avoid imputation while keeping most of the records."
   ]
  },
  {
   "cell_type": "code",
   "execution_count": 99,
   "metadata": {},
   "outputs": [
    {
     "name": "stdout",
     "output_type": "stream",
     "text": [
      "(23260, 41)\n",
      "dropped:  {'square_feet', 'cleaning_fee', 'host_acceptance_rate', 'monthly_price', 'security_deposit', 'weekly_price', 'neighbourhood_group_cleansed', 'host_response_rate', 'host_response_time', 'host_neighbourhood'}\n"
     ]
    }
   ],
   "source": [
    "# Drop the columns where there are more than the allowed fraction (allow_missing) of missing values\n",
    "allow_missing = 0.01\n",
    "\n",
    "col_set = set(df_rated.columns.values)\n",
    "df_rated = df_rated.dropna(axis=1, thresh=df_rated.shape[0]*(1-allow_missing))\n",
    "\n",
    "print(df_rated.shape)\n",
    "print(\"dropped: \", col_set - set(df_rated.columns.values))"
   ]
  },
  {
   "cell_type": "code",
   "execution_count": 100,
   "metadata": {},
   "outputs": [
    {
     "name": "stdout",
     "output_type": "stream",
     "text": [
      "(23141, 41)\n",
      "0.5% dropped\n"
     ]
    }
   ],
   "source": [
    "# drop rows with missing values\n",
    "base = df_rated.shape[0]\n",
    "df_rated = df_rated.dropna()\n",
    "print(df_rated.shape)\n",
    "print('{:.001%} dropped'.format(1-df_rated.shape[0]/base))"
   ]
  },
  {
   "cell_type": "code",
   "execution_count": 101,
   "metadata": {},
   "outputs": [
    {
     "name": "stdout",
     "output_type": "stream",
     "text": [
      "(23141, 41)\n",
      "0.0% dropped\n"
     ]
    }
   ],
   "source": [
    "# drop rows with missing values\n",
    "base = df_rated.shape[0]\n",
    "df_rated = df_rated.dropna()\n",
    "print(df_rated.shape)\n",
    "print('{:.1%} dropped'.format(1-df_rated.shape[0]/base))"
   ]
  },
  {
   "cell_type": "code",
   "execution_count": 102,
   "metadata": {},
   "outputs": [],
   "source": [
    "# Data cleansing\n",
    "df_cleanse = df_rated\n",
    "\n",
    "# Columns to cleanse\n",
    "cols_dollar_price = ['price', 'extra_people']\n",
    "cols_dates = ['host_since', 'first_review', 'last_review']"
   ]
  },
  {
   "cell_type": "code",
   "execution_count": 103,
   "metadata": {},
   "outputs": [
    {
     "name": "stdout",
     "output_type": "stream",
     "text": [
      "2019-11-29 , 2009-09-04 , 2019-11-29\n"
     ]
    }
   ],
   "source": [
    "# Strings to timestamps\n",
    "df_cleanse['host_since'] = pd.to_datetime(df_cleanse['host_since']).dt.date\n",
    "df_cleanse['first_review'] = pd.to_datetime(df_cleanse['first_review']).dt.date\n",
    "df_cleanse['last_review'] = pd.to_datetime(df_cleanse['last_review']).dt.date\n",
    "print(max(df_cleanse['last_review']), \",\", min(df_cleanse['first_review']), \",\", max(df_cleanse['last_review']))\n",
    "last_reference_day = max(max(df_cleanse['last_review']), max(df_cleanse['last_review']))\n",
    "\n",
    "# Dates in day delta\n",
    "df_cleanse['host_since_days'] = (last_reference_day - df_cleanse['host_since']).apply(lambda x: x.days)\n",
    "df_cleanse['first_review_days'] = (last_reference_day - df_cleanse['first_review']).apply(lambda x: x.days)\n",
    "df_cleanse['last_review_days'] = (last_reference_day - df_cleanse['last_review']).apply(lambda x: x.days)"
   ]
  },
  {
   "cell_type": "code",
   "execution_count": 104,
   "metadata": {},
   "outputs": [],
   "source": [
    "# Dollar price string to number\n",
    "df_cleanse['price'] = df_cleanse['price'].apply(lambda x:float(x.replace('$', '').replace(',', '')))\n",
    "df_cleanse['extra_people'] = df_cleanse['extra_people'].apply(lambda x:float(x.replace('$', '').replace(',', '')))\n",
    "df_cleanse['price_plus1_log10'] = np.log10(df_cleanse['price'] + 1)\n",
    "df_cleanse['extra_people_plus1_log10'] = np.log10(df_cleanse['extra_people'] + 1)"
   ]
  },
  {
   "cell_type": "code",
   "execution_count": 105,
   "metadata": {},
   "outputs": [],
   "source": [
    "def create_dummy_df_noloop(df, cat_cols, dummy_na = False, drop_first = True):\n",
    "    '''\n",
    "    INPUT:\n",
    "    df - pandas dataframe with categorical variables you want to dummy\n",
    "    cat_cols - list of strings that are associated with names of the categorical columns\n",
    "    dummy_na - Bool holding whether you want to dummy NA vals of categorical columns or not\n",
    "    \n",
    "    OUTPUT:\n",
    "    df - a new dataframe that has the following characteristics:\n",
    "            1. contains all columns that were not specified as categorical\n",
    "            2. removes all the original columns in cat_cols\n",
    "            3. dummy columns for each of the categorical columns in cat_cols\n",
    "            4. if dummy_na is True - it also contains dummy columns for the NaN values\n",
    "            5. Use a prefix of the column name with an underscore (_) for separating \n",
    "    '''\n",
    "    # subset the categorical columns and transform to dummy\n",
    "    cat_df = df[cat_cols]\n",
    "    dummy_cols_df = pd.get_dummies(cat_df, prefix=cat_cols, dummy_na=dummy_na, drop_first=drop_first)\n",
    "    \n",
    "    # join the numeric+dummy\n",
    "    df_rest = df.drop(cat_cols, axis=1)\n",
    "    \n",
    "    resulting_df = pd.concat([df_rest, dummy_cols_df], axis=1)\n",
    "    \n",
    "    return resulting_df"
   ]
  },
  {
   "cell_type": "code",
   "execution_count": 106,
   "metadata": {},
   "outputs": [],
   "source": [
    "# Booleans\n",
    "cols_bool_to_dummy = ['host_is_superhost', 'host_has_profile_pic', 'host_identity_verified', \n",
    "                      'instant_bookable', 'require_guest_profile_picture', 'require_guest_phone_verification']"
   ]
  },
  {
   "cell_type": "code",
   "execution_count": 107,
   "metadata": {},
   "outputs": [],
   "source": [
    "df_cleanse = create_dummy_df_noloop(df_cleanse, cols_bool_to_dummy)"
   ]
  },
  {
   "cell_type": "code",
   "execution_count": 108,
   "metadata": {},
   "outputs": [],
   "source": [
    "# Join the average rating of a location"
   ]
  },
  {
   "cell_type": "code",
   "execution_count": 109,
   "metadata": {},
   "outputs": [
    {
     "data": {
      "text/html": [
       "<div>\n",
       "<style scoped>\n",
       "    .dataframe tbody tr th:only-of-type {\n",
       "        vertical-align: middle;\n",
       "    }\n",
       "\n",
       "    .dataframe tbody tr th {\n",
       "        vertical-align: top;\n",
       "    }\n",
       "\n",
       "    .dataframe thead th {\n",
       "        text-align: right;\n",
       "    }\n",
       "</style>\n",
       "<table border=\"1\" class=\"dataframe\">\n",
       "  <thead>\n",
       "    <tr style=\"text-align: right;\">\n",
       "      <th></th>\n",
       "      <th>neighbourhood_top</th>\n",
       "      <th>lat</th>\n",
       "      <th>lon</th>\n",
       "      <th>count_listings</th>\n",
       "      <th>mean_location_score</th>\n",
       "      <th>diff_location_score</th>\n",
       "      <th>text</th>\n",
       "    </tr>\n",
       "  </thead>\n",
       "  <tbody>\n",
       "    <tr>\n",
       "      <td>0</td>\n",
       "      <td>Amager</td>\n",
       "      <td>55.655861</td>\n",
       "      <td>12.601920</td>\n",
       "      <td>2340</td>\n",
       "      <td>9.560303</td>\n",
       "      <td>-0.030271</td>\n",
       "      <td>Amager; Average location score: 9.560302866414277</td>\n",
       "    </tr>\n",
       "    <tr>\n",
       "      <td>1</td>\n",
       "      <td>Amager Vest</td>\n",
       "      <td>55.651334</td>\n",
       "      <td>12.587681</td>\n",
       "      <td>1051</td>\n",
       "      <td>9.577017</td>\n",
       "      <td>-0.013557</td>\n",
       "      <td>Amager Vest; Average location score: 9.5770171...</td>\n",
       "    </tr>\n",
       "    <tr>\n",
       "      <td>2</td>\n",
       "      <td>Amager Øst</td>\n",
       "      <td>55.659250</td>\n",
       "      <td>12.616878</td>\n",
       "      <td>776</td>\n",
       "      <td>9.512579</td>\n",
       "      <td>-0.077996</td>\n",
       "      <td>Amager Øst; Average location score: 9.51257861...</td>\n",
       "    </tr>\n",
       "    <tr>\n",
       "      <td>3</td>\n",
       "      <td>Amagerbro</td>\n",
       "      <td>55.663465</td>\n",
       "      <td>12.612529</td>\n",
       "      <td>214</td>\n",
       "      <td>9.534759</td>\n",
       "      <td>-0.055815</td>\n",
       "      <td>Amagerbro; Average location score: 9.534759358...</td>\n",
       "    </tr>\n",
       "    <tr>\n",
       "      <td>4</td>\n",
       "      <td>Brønshøj</td>\n",
       "      <td>55.706578</td>\n",
       "      <td>12.490982</td>\n",
       "      <td>538</td>\n",
       "      <td>9.241895</td>\n",
       "      <td>-0.348679</td>\n",
       "      <td>Brønshøj; Average location score: 9.2418952618...</td>\n",
       "    </tr>\n",
       "  </tbody>\n",
       "</table>\n",
       "</div>"
      ],
      "text/plain": [
       "  neighbourhood_top        lat        lon  count_listings  \\\n",
       "0            Amager  55.655861  12.601920            2340   \n",
       "1       Amager Vest  55.651334  12.587681            1051   \n",
       "2        Amager Øst  55.659250  12.616878             776   \n",
       "3         Amagerbro  55.663465  12.612529             214   \n",
       "4          Brønshøj  55.706578  12.490982             538   \n",
       "\n",
       "   mean_location_score  diff_location_score  \\\n",
       "0             9.560303            -0.030271   \n",
       "1             9.577017            -0.013557   \n",
       "2             9.512579            -0.077996   \n",
       "3             9.534759            -0.055815   \n",
       "4             9.241895            -0.348679   \n",
       "\n",
       "                                                text  \n",
       "0  Amager; Average location score: 9.560302866414277  \n",
       "1  Amager Vest; Average location score: 9.5770171...  \n",
       "2  Amager Øst; Average location score: 9.51257861...  \n",
       "3  Amagerbro; Average location score: 9.534759358...  \n",
       "4  Brønshøj; Average location score: 9.2418952618...  "
      ]
     },
     "execution_count": 109,
     "metadata": {},
     "output_type": "execute_result"
    }
   ],
   "source": [
    "# average location score by neighborhood_top\n",
    "df_for_map.head()"
   ]
  },
  {
   "cell_type": "code",
   "execution_count": 110,
   "metadata": {},
   "outputs": [],
   "source": [
    "#A.merge(B, left_on='lkey', right_on='rkey', how='outer')\n",
    "mean_location_df = df_for_map[['neighbourhood_top', 'mean_location_score']]\n",
    "df_cleanse = df_cleanse.merge(mean_location_df, on='neighbourhood_top', how='outer')"
   ]
  },
  {
   "cell_type": "code",
   "execution_count": 111,
   "metadata": {},
   "outputs": [],
   "source": [
    "# Categorical to dummy\n",
    "cols_cat_to_dummy = ['property_type_groups', 'room_type', 'bed_type', 'cancellation_policy'] #'neighbourhood_top'"
   ]
  },
  {
   "cell_type": "code",
   "execution_count": 112,
   "metadata": {},
   "outputs": [
    {
     "data": {
      "text/plain": [
       "Entire home/apt    19473\n",
       "Private room        3555\n",
       "Shared room           68\n",
       "Hotel room            45\n",
       "Name: room_type, dtype: int64"
      ]
     },
     "execution_count": 112,
     "metadata": {},
     "output_type": "execute_result"
    }
   ],
   "source": [
    "df_cleanse.room_type.value_counts()"
   ]
  },
  {
   "cell_type": "code",
   "execution_count": 113,
   "metadata": {},
   "outputs": [
    {
     "data": {
      "text/plain": [
       "Real Bed         22806\n",
       "Pull-out Sofa      188\n",
       "Futon               81\n",
       "Couch               37\n",
       "Airbed              29\n",
       "Name: bed_type, dtype: int64"
      ]
     },
     "execution_count": 113,
     "metadata": {},
     "output_type": "execute_result"
    }
   ],
   "source": [
    "df_cleanse.bed_type.value_counts()"
   ]
  },
  {
   "cell_type": "code",
   "execution_count": 114,
   "metadata": {},
   "outputs": [
    {
     "data": {
      "text/plain": [
       "flexible                       8936\n",
       "moderate                       8024\n",
       "strict_14_with_grace_period    6070\n",
       "super_strict_60                  88\n",
       "super_strict_30                  23\n",
       "Name: cancellation_policy, dtype: int64"
      ]
     },
     "execution_count": 114,
     "metadata": {},
     "output_type": "execute_result"
    }
   ],
   "source": [
    "df_cleanse.cancellation_policy.value_counts()"
   ]
  },
  {
   "cell_type": "code",
   "execution_count": 115,
   "metadata": {},
   "outputs": [
    {
     "data": {
      "text/plain": [
       "Apartment                 19486\n",
       "Condominium                1558\n",
       "House                       995\n",
       "Townhouse                   462\n",
       "Loft                        221\n",
       "Serviced apartment          130\n",
       "Villa                       111\n",
       "Hostel                       20\n",
       "Guesthouse                   19\n",
       "Houseboat                    17\n",
       "Boat                         16\n",
       "Guest suite                  16\n",
       "Bed and breakfast            15\n",
       "Bungalow                     14\n",
       "Tiny house                   12\n",
       "Other                        10\n",
       "Cabin                         9\n",
       "Hotel                         9\n",
       "Cottage                       7\n",
       "Boutique hotel                5\n",
       "Camper/RV                     3\n",
       "Hut                           2\n",
       "Tent                          2\n",
       "Casa particular (Cuba)        1\n",
       "Island                        1\n",
       "Name: property_type, dtype: int64"
      ]
     },
     "execution_count": 115,
     "metadata": {},
     "output_type": "execute_result"
    }
   ],
   "source": [
    "df_cleanse.property_type.value_counts()"
   ]
  },
  {
   "cell_type": "code",
   "execution_count": 116,
   "metadata": {},
   "outputs": [
    {
     "data": {
      "text/plain": [
       "Apartments          21395\n",
       "Houses               1601\n",
       "Hotels etc.            65\n",
       "Camping/Glamping       35\n",
       "Boats                  33\n",
       "Other                  12\n",
       "Name: property_type_groups, dtype: int64"
      ]
     },
     "execution_count": 116,
     "metadata": {},
     "output_type": "execute_result"
    }
   ],
   "source": [
    "def property_type_new(series):\n",
    "    if series in {'House', 'Townhouse', 'Bungalow', 'Tiny house', 'Cottage', 'Villa'}:\n",
    "        return 'Houses'\n",
    "    elif series in {'Apartment', 'Condominium', 'Loft', 'Serviced apartment'}:\n",
    "        return 'Apartments'\n",
    "    elif series in {'Hotel', 'Hostel', 'Guest suite', 'Bed and breakfast', 'Boutique hotel'}:\n",
    "        return 'Hotels etc.'\n",
    "    elif series in {'Cabin', 'Guesthouse', 'Camper/RV', 'Tent', 'Hut'}:\n",
    "        return 'Camping/Glamping'\n",
    "    elif series in {'Houseboat', 'Boat'}:\n",
    "        return 'Boats'\n",
    "    elif  series in {'Other', 'Casa particular (Cuba)', 'Island'}:\n",
    "        return 'Other'\n",
    "    else:\n",
    "        return series\n",
    "    \n",
    "df_cleanse['property_type_groups'] = df_cleanse.property_type.apply(property_type_new)\n",
    "df_cleanse['property_type_groups'].value_counts()"
   ]
  },
  {
   "cell_type": "code",
   "execution_count": 117,
   "metadata": {},
   "outputs": [],
   "source": [
    "df_cleanse = create_dummy_df_noloop(df_cleanse, cols_cat_to_dummy)"
   ]
  },
  {
   "cell_type": "code",
   "execution_count": 68,
   "metadata": {
    "scrolled": true
   },
   "outputs": [
    {
     "data": {
      "application/vnd.jupyter.widget-view+json": {
       "model_id": "bc666e4e22b14b8a8a6b50eef7cd7287",
       "version_major": 2,
       "version_minor": 0
      },
      "text/plain": [
       "Tab(children=(HTML(value='<div id=\"overview-content\" class=\"row variable spacing\">\\n    <div class=\"row\">\\n   …"
      ]
     },
     "metadata": {},
     "output_type": "display_data"
    },
    {
     "data": {
      "text/html": [
       "Report generated with <a href=\"https://github.com/pandas-profiling/pandas-profiling\">pandas-profiling</a>."
      ],
      "text/plain": [
       "<IPython.core.display.HTML object>"
      ]
     },
     "metadata": {},
     "output_type": "display_data"
    }
   ],
   "source": [
    "# Data discovery with pandas_profiling\n",
    "profile = ProfileReport(df_cleanse, title='Pandas Profiling Report', \n",
    "                        html={'style':{'full_width':True}}, \n",
    "                        minimal=True)\n",
    "profile.to_widgets()"
   ]
  },
  {
   "cell_type": "code",
   "execution_count": 119,
   "metadata": {},
   "outputs": [],
   "source": [
    "# 5. model the data\n",
    "# Select columns for training\n",
    "df_clenased = df_cleanse[['review_scores_rating',\n",
    "                          'reviews_per_month', 'host_since_days', 'first_review_days', 'last_review_days',\n",
    "#                           'price', 'extra_people',\n",
    "                          'price_plus1_log10', 'extra_people_plus1_log10',\n",
    "                          'mean_location_score',\n",
    "                          'host_is_superhost_t', 'host_has_profile_pic_t', 'host_identity_verified_t', \n",
    "                          'instant_bookable_t', \n",
    "                          'require_guest_profile_picture_t', 'require_guest_phone_verification_t',\n",
    "                          'property_type_groups_Boats',\n",
    "                          'property_type_groups_Camping/Glamping', 'property_type_groups_Hotels etc.', 'property_type_groups_Houses', 'property_type_groups_Other', \n",
    "                          'room_type_Hotel room', 'room_type_Private room', 'room_type_Shared room', \n",
    "                          'bed_type_Couch', 'bed_type_Futon', 'bed_type_Pull-out Sofa', 'bed_type_Real Bed',\n",
    "                          'cancellation_policy_moderate', 'cancellation_policy_strict_14_with_grace_period', 'cancellation_policy_super_strict_30', 'cancellation_policy_super_strict_60']]"
   ]
  },
  {
   "cell_type": "code",
   "execution_count": 120,
   "metadata": {},
   "outputs": [],
   "source": [
    "#Split into explanatory and response variables\n",
    "X = df_clenased.drop('review_scores_rating', axis=1)\n",
    "y = df_clenased['review_scores_rating']\n",
    "\n",
    "#Split into train and test\n",
    "X_train, X_test, y_train, y_test = train_test_split(X, y, test_size=0.3, random_state=1234)"
   ]
  },
  {
   "cell_type": "code",
   "execution_count": 121,
   "metadata": {},
   "outputs": [],
   "source": [
    "lm_model = LinearRegression(normalize=True) # Instantiate\n",
    "lm_model.fit(X_train, y_train) #Fit\n",
    "\n",
    "#Predict using your model\n",
    "y_test_preds = lm_model.predict(X_test)\n",
    "y_train_preds = lm_model.predict(X_train)\n",
    "\n",
    "#Score using your model\n",
    "test_score = r2_score(y_test, y_test_preds)\n",
    "train_score = r2_score(y_train, y_train_preds)"
   ]
  },
  {
   "cell_type": "code",
   "execution_count": 122,
   "metadata": {},
   "outputs": [
    {
     "name": "stdout",
     "output_type": "stream",
     "text": [
      "0.045698231538421785\n",
      "0.05629751003231076\n"
     ]
    }
   ],
   "source": [
    "print(test_score)\n",
    "print(train_score)"
   ]
  },
  {
   "cell_type": "markdown",
   "metadata": {},
   "source": [
    "#### 1. What are the strongest positive or negative predictors for the rating of a listing?"
   ]
  },
  {
   "cell_type": "code",
   "execution_count": 123,
   "metadata": {},
   "outputs": [
    {
     "data": {
      "text/html": [
       "<div>\n",
       "<style scoped>\n",
       "    .dataframe tbody tr th:only-of-type {\n",
       "        vertical-align: middle;\n",
       "    }\n",
       "\n",
       "    .dataframe tbody tr th {\n",
       "        vertical-align: top;\n",
       "    }\n",
       "\n",
       "    .dataframe thead th {\n",
       "        text-align: right;\n",
       "    }\n",
       "</style>\n",
       "<table border=\"1\" class=\"dataframe\">\n",
       "  <thead>\n",
       "    <tr style=\"text-align: right;\">\n",
       "      <th></th>\n",
       "      <th>est_int</th>\n",
       "      <th>coefs</th>\n",
       "      <th>abs_coefs</th>\n",
       "    </tr>\n",
       "  </thead>\n",
       "  <tbody>\n",
       "    <tr>\n",
       "      <td>27</td>\n",
       "      <td>cancellation_policy_super_strict_30</td>\n",
       "      <td>-8.149805</td>\n",
       "      <td>8.149805</td>\n",
       "    </tr>\n",
       "    <tr>\n",
       "      <td>20</td>\n",
       "      <td>room_type_Shared room</td>\n",
       "      <td>-7.257265</td>\n",
       "      <td>7.257265</td>\n",
       "    </tr>\n",
       "    <tr>\n",
       "      <td>21</td>\n",
       "      <td>bed_type_Couch</td>\n",
       "      <td>5.297766</td>\n",
       "      <td>5.297766</td>\n",
       "    </tr>\n",
       "    <tr>\n",
       "      <td>17</td>\n",
       "      <td>property_type_groups_Other</td>\n",
       "      <td>4.711920</td>\n",
       "      <td>4.711920</td>\n",
       "    </tr>\n",
       "    <tr>\n",
       "      <td>28</td>\n",
       "      <td>cancellation_policy_super_strict_60</td>\n",
       "      <td>-4.638355</td>\n",
       "      <td>4.638355</td>\n",
       "    </tr>\n",
       "    <tr>\n",
       "      <td>22</td>\n",
       "      <td>bed_type_Futon</td>\n",
       "      <td>3.762868</td>\n",
       "      <td>3.762868</td>\n",
       "    </tr>\n",
       "    <tr>\n",
       "      <td>23</td>\n",
       "      <td>bed_type_Pull-out Sofa</td>\n",
       "      <td>3.606699</td>\n",
       "      <td>3.606699</td>\n",
       "    </tr>\n",
       "    <tr>\n",
       "      <td>24</td>\n",
       "      <td>bed_type_Real Bed</td>\n",
       "      <td>3.521954</td>\n",
       "      <td>3.521954</td>\n",
       "    </tr>\n",
       "    <tr>\n",
       "      <td>18</td>\n",
       "      <td>room_type_Hotel room</td>\n",
       "      <td>-3.238892</td>\n",
       "      <td>3.238892</td>\n",
       "    </tr>\n",
       "    <tr>\n",
       "      <td>7</td>\n",
       "      <td>host_is_superhost_t</td>\n",
       "      <td>2.095443</td>\n",
       "      <td>2.095443</td>\n",
       "    </tr>\n",
       "    <tr>\n",
       "      <td>15</td>\n",
       "      <td>property_type_groups_Hotels etc.</td>\n",
       "      <td>-1.890624</td>\n",
       "      <td>1.890624</td>\n",
       "    </tr>\n",
       "    <tr>\n",
       "      <td>4</td>\n",
       "      <td>price_plus1_log10</td>\n",
       "      <td>1.254830</td>\n",
       "      <td>1.254830</td>\n",
       "    </tr>\n",
       "    <tr>\n",
       "      <td>10</td>\n",
       "      <td>instant_bookable_t</td>\n",
       "      <td>-1.176639</td>\n",
       "      <td>1.176639</td>\n",
       "    </tr>\n",
       "    <tr>\n",
       "      <td>12</td>\n",
       "      <td>require_guest_phone_verification_t</td>\n",
       "      <td>1.109087</td>\n",
       "      <td>1.109087</td>\n",
       "    </tr>\n",
       "    <tr>\n",
       "      <td>13</td>\n",
       "      <td>property_type_groups_Boats</td>\n",
       "      <td>1.026354</td>\n",
       "      <td>1.026354</td>\n",
       "    </tr>\n",
       "    <tr>\n",
       "      <td>8</td>\n",
       "      <td>host_has_profile_pic_t</td>\n",
       "      <td>0.802297</td>\n",
       "      <td>0.802297</td>\n",
       "    </tr>\n",
       "    <tr>\n",
       "      <td>6</td>\n",
       "      <td>mean_location_score</td>\n",
       "      <td>0.740500</td>\n",
       "      <td>0.740500</td>\n",
       "    </tr>\n",
       "    <tr>\n",
       "      <td>25</td>\n",
       "      <td>cancellation_policy_moderate</td>\n",
       "      <td>0.548004</td>\n",
       "      <td>0.548004</td>\n",
       "    </tr>\n",
       "    <tr>\n",
       "      <td>19</td>\n",
       "      <td>room_type_Private room</td>\n",
       "      <td>-0.398065</td>\n",
       "      <td>0.398065</td>\n",
       "    </tr>\n",
       "    <tr>\n",
       "      <td>0</td>\n",
       "      <td>reviews_per_month</td>\n",
       "      <td>-0.303824</td>\n",
       "      <td>0.303824</td>\n",
       "    </tr>\n",
       "    <tr>\n",
       "      <td>16</td>\n",
       "      <td>property_type_groups_Houses</td>\n",
       "      <td>0.300572</td>\n",
       "      <td>0.300572</td>\n",
       "    </tr>\n",
       "    <tr>\n",
       "      <td>14</td>\n",
       "      <td>property_type_groups_Camping/Glamping</td>\n",
       "      <td>0.240931</td>\n",
       "      <td>0.240931</td>\n",
       "    </tr>\n",
       "    <tr>\n",
       "      <td>9</td>\n",
       "      <td>host_identity_verified_t</td>\n",
       "      <td>0.175286</td>\n",
       "      <td>0.175286</td>\n",
       "    </tr>\n",
       "    <tr>\n",
       "      <td>5</td>\n",
       "      <td>extra_people_plus1_log10</td>\n",
       "      <td>-0.075945</td>\n",
       "      <td>0.075945</td>\n",
       "    </tr>\n",
       "    <tr>\n",
       "      <td>11</td>\n",
       "      <td>require_guest_profile_picture_t</td>\n",
       "      <td>-0.048971</td>\n",
       "      <td>0.048971</td>\n",
       "    </tr>\n",
       "    <tr>\n",
       "      <td>26</td>\n",
       "      <td>cancellation_policy_strict_14_with_grace_period</td>\n",
       "      <td>-0.039006</td>\n",
       "      <td>0.039006</td>\n",
       "    </tr>\n",
       "    <tr>\n",
       "      <td>3</td>\n",
       "      <td>last_review_days</td>\n",
       "      <td>-0.001660</td>\n",
       "      <td>0.001660</td>\n",
       "    </tr>\n",
       "    <tr>\n",
       "      <td>2</td>\n",
       "      <td>first_review_days</td>\n",
       "      <td>-0.000801</td>\n",
       "      <td>0.000801</td>\n",
       "    </tr>\n",
       "    <tr>\n",
       "      <td>1</td>\n",
       "      <td>host_since_days</td>\n",
       "      <td>0.000690</td>\n",
       "      <td>0.000690</td>\n",
       "    </tr>\n",
       "  </tbody>\n",
       "</table>\n",
       "</div>"
      ],
      "text/plain": [
       "                                            est_int     coefs  abs_coefs\n",
       "27              cancellation_policy_super_strict_30 -8.149805   8.149805\n",
       "20                            room_type_Shared room -7.257265   7.257265\n",
       "21                                   bed_type_Couch  5.297766   5.297766\n",
       "17                       property_type_groups_Other  4.711920   4.711920\n",
       "28              cancellation_policy_super_strict_60 -4.638355   4.638355\n",
       "22                                   bed_type_Futon  3.762868   3.762868\n",
       "23                           bed_type_Pull-out Sofa  3.606699   3.606699\n",
       "24                                bed_type_Real Bed  3.521954   3.521954\n",
       "18                             room_type_Hotel room -3.238892   3.238892\n",
       "7                               host_is_superhost_t  2.095443   2.095443\n",
       "15                 property_type_groups_Hotels etc. -1.890624   1.890624\n",
       "4                                 price_plus1_log10  1.254830   1.254830\n",
       "10                               instant_bookable_t -1.176639   1.176639\n",
       "12               require_guest_phone_verification_t  1.109087   1.109087\n",
       "13                       property_type_groups_Boats  1.026354   1.026354\n",
       "8                            host_has_profile_pic_t  0.802297   0.802297\n",
       "6                               mean_location_score  0.740500   0.740500\n",
       "25                     cancellation_policy_moderate  0.548004   0.548004\n",
       "19                           room_type_Private room -0.398065   0.398065\n",
       "0                                 reviews_per_month -0.303824   0.303824\n",
       "16                      property_type_groups_Houses  0.300572   0.300572\n",
       "14            property_type_groups_Camping/Glamping  0.240931   0.240931\n",
       "9                          host_identity_verified_t  0.175286   0.175286\n",
       "5                          extra_people_plus1_log10 -0.075945   0.075945\n",
       "11                  require_guest_profile_picture_t -0.048971   0.048971\n",
       "26  cancellation_policy_strict_14_with_grace_period -0.039006   0.039006\n",
       "3                                  last_review_days -0.001660   0.001660\n",
       "2                                 first_review_days -0.000801   0.000801\n",
       "1                                   host_since_days  0.000690   0.000690"
      ]
     },
     "execution_count": 123,
     "metadata": {},
     "output_type": "execute_result"
    }
   ],
   "source": [
    "def coef_weights(coefficients, X_train):\n",
    "    '''\n",
    "    INPUT:\n",
    "    coefficients - the coefficients of the linear model \n",
    "    X_train - the training data, so the column names can be used\n",
    "    OUTPUT:\n",
    "    coefs_df - a dataframe holding the coefficient, estimate, and abs(estimate)\n",
    "    \n",
    "    Provides a dataframe that can be used to understand the most influential coefficients\n",
    "    in a linear model by providing the coefficient estimates along with the name of the \n",
    "    variable attached to the coefficient.\n",
    "    '''\n",
    "    coefs_df = pd.DataFrame()\n",
    "    coefs_df['est_int'] = X_train.columns\n",
    "    coefs_df['coefs'] = lm_model.coef_\n",
    "    coefs_df['abs_coefs'] = np.abs(lm_model.coef_)\n",
    "    coefs_df = coefs_df.sort_values('abs_coefs', ascending=False)\n",
    "    return coefs_df\n",
    "\n",
    "#Use the function\n",
    "coef_df = coef_weights(lm_model.coef_, X_train)\n",
    "\n",
    "#A quick look at the top results\n",
    "coef_df.head(50)"
   ]
  },
  {
   "cell_type": "code",
   "execution_count": null,
   "metadata": {},
   "outputs": [],
   "source": []
  },
  {
   "cell_type": "code",
   "execution_count": null,
   "metadata": {},
   "outputs": [],
   "source": []
  }
 ],
 "metadata": {
  "kernelspec": {
   "display_name": "Python 3",
   "language": "python",
   "name": "python3"
  },
  "language_info": {
   "codemirror_mode": {
    "name": "ipython",
    "version": 3
   },
   "file_extension": ".py",
   "mimetype": "text/x-python",
   "name": "python",
   "nbconvert_exporter": "python",
   "pygments_lexer": "ipython3",
   "version": "3.7.4"
  }
 },
 "nbformat": 4,
 "nbformat_minor": 4
}
